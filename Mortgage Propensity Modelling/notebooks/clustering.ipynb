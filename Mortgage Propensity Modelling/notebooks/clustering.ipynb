{
 "cells": [
  {
   "cell_type": "code",
   "execution_count": 1,
   "metadata": {
    "collapsed": true
   },
   "outputs": [],
   "source": [
    "import pandas as pd\n",
    "import numpy as np\n",
    "import scipy\n",
    "from sklearn.tree import DecisionTreeClassifier\n",
    "from sklearn.externals.six import StringIO  \n",
    "from IPython.display import Image  \n",
    "from sklearn.tree import export_graphviz\n",
    "import pydotplus\n",
    "from lightgbm import LGBMClassifier \n",
    "from xgboost import XGBClassifier\n",
    "from sklearn.model_selection import cross_val_score, KFold, train_test_split\n",
    "from sklearn.metrics import f1_score, roc_auc_score, accuracy_score, confusion_matrix, precision_score, recall_score\n",
    "from sklearn.ensemble import AdaBoostClassifier, BaggingClassifier, BaseEnsemble, ExtraTreesClassifier, GradientBoostingClassifier, RandomForestClassifier, VotingClassifier\n",
    "from sklearn.neighbors import KNeighborsClassifier\n",
    "from sklearn.linear_model import LogisticRegression\n",
    "from catboost import CatBoostClassifier\n",
    "import eli5\n",
    "import shap\n",
    "from sklearn import model_selection\n",
    "\n",
    "pd.options.display.max_columns = 1000\n",
    "pd.options.display.max_rows = 1000"
   ]
  },
  {
   "cell_type": "code",
   "execution_count": 2,
   "metadata": {
    "collapsed": true
   },
   "outputs": [],
   "source": [
    "data = pd.read_csv('../data/data_full_final.csv')"
   ]
  },
  {
   "cell_type": "code",
   "execution_count": 3,
   "metadata": {
    "collapsed": true
   },
   "outputs": [],
   "source": [
    "train_embedding = pd.read_csv('../data/train_AE_embeddings.csv')\n",
    "test_embedding = pd.read_csv('../data/test_AE_embeddings.csv')\n",
    "data_embedding = pd.concat([train_embedding,test_embedding],axis=0)"
   ]
  },
  {
   "cell_type": "code",
   "execution_count": 7,
   "metadata": {},
   "outputs": [],
   "source": [
    "for col in data_embedding.columns:\n",
    "    data[col] = data_embedding[col].values"
   ]
  },
  {
   "cell_type": "code",
   "execution_count": 5,
   "metadata": {},
   "outputs": [
    {
     "data": {
      "text/plain": [
       "(60856, 12)"
      ]
     },
     "execution_count": 5,
     "metadata": {},
     "output_type": "execute_result"
    }
   ],
   "source": [
    "data_embedding.shape"
   ]
  },
  {
   "cell_type": "code",
   "execution_count": 8,
   "metadata": {},
   "outputs": [
    {
     "data": {
      "text/plain": [
       "(60856, 726)"
      ]
     },
     "execution_count": 8,
     "metadata": {},
     "output_type": "execute_result"
    }
   ],
   "source": [
    "data.shape"
   ]
  },
  {
   "cell_type": "code",
   "execution_count": 9,
   "metadata": {
    "collapsed": true
   },
   "outputs": [],
   "source": [
    "cols = list(data.columns)\n",
    "cols.remove('RESULT')"
   ]
  },
  {
   "cell_type": "code",
   "execution_count": 10,
   "metadata": {
    "collapsed": true
   },
   "outputs": [],
   "source": [
    "from sklearn.preprocessing import MinMaxScaler, StandardScaler"
   ]
  },
  {
   "cell_type": "code",
   "execution_count": 11,
   "metadata": {
    "collapsed": true
   },
   "outputs": [],
   "source": [
    "clf = MinMaxScaler((0,1))"
   ]
  },
  {
   "cell_type": "code",
   "execution_count": 12,
   "metadata": {},
   "outputs": [
    {
     "name": "stderr",
     "output_type": "stream",
     "text": [
      "C:\\Users\\asengup6\\Softwares\\Anaconda\\lib\\site-packages\\sklearn\\preprocessing\\data.py:323: DataConversionWarning: Data with input dtype int64, float64 were all converted to float64 by MinMaxScaler.\n",
      "  return self.partial_fit(X, y)\n"
     ]
    }
   ],
   "source": [
    "data_scaled = clf.fit_transform(data[cols])"
   ]
  },
  {
   "cell_type": "code",
   "execution_count": 13,
   "metadata": {
    "collapsed": true
   },
   "outputs": [],
   "source": [
    "from sklearn.cluster import KMeans"
   ]
  },
  {
   "cell_type": "code",
   "execution_count": 18,
   "metadata": {},
   "outputs": [
    {
     "name": "stdout",
     "output_type": "stream",
     "text": [
      "10\n",
      "20\n",
      "30\n",
      "40\n",
      "50\n",
      "60\n",
      "70\n",
      "80\n",
      "90\n"
     ]
    }
   ],
   "source": [
    "distortions = []\n",
    "K = np.arange(10,100,10)\n",
    "for k in K:\n",
    "    kmeanModel = KMeans(n_clusters=int(k)).fit(data_scaled)\n",
    "    distortions.append(kmeanModel.inertia_)\n",
    "    print (k)"
   ]
  },
  {
   "cell_type": "code",
   "execution_count": 19,
   "metadata": {},
   "outputs": [
    {
     "data": {
      "image/png": "[encoded data removed]",
      "text/plain": [
       "<Figure size 432x288 with 1 Axes>"
      ]
     },
     "metadata": {},
     "output_type": "display_data"
    }
   ],
   "source": [
    "import matplotlib.pyplot as plt\n",
    "plt.plot(K, distortions, 'bx-')\n",
    "plt.xlabel('k')\n",
    "plt.ylabel('Distortion')\n",
    "plt.title('The Elbow Method showing the optimal k')\n",
    "plt.show()"
   ]
  },
  {
   "cell_type": "code",
   "execution_count": 21,
   "metadata": {},
   "outputs": [],
   "source": [
    "kmeanModel = KMeans(n_clusters=int(20)).fit(data_scaled)"
   ]
  },
  {
   "cell_type": "code",
   "execution_count": 22,
   "metadata": {
    "collapsed": true
   },
   "outputs": [],
   "source": [
    "data['cluster_id'] = kmeanModel.labels_"
   ]
  },
  {
   "cell_type": "code",
   "execution_count": 24,
   "metadata": {},
   "outputs": [
    {
     "data": {
      "text/plain": [
       "cluster_id  RESULT\n",
       "0           0.0       0.782883\n",
       "            1.0       0.217117\n",
       "1           0.0       0.868682\n",
       "            1.0       0.131318\n",
       "2           0.0       0.886473\n",
       "            1.0       0.113527\n",
       "3           0.0       0.855601\n",
       "            1.0       0.144399\n",
       "4           0.0       0.850177\n",
       "            1.0       0.149823\n",
       "5           0.0       0.816716\n",
       "            1.0       0.183284\n",
       "6           0.0       0.862084\n",
       "            1.0       0.137916\n",
       "7           0.0       0.867634\n",
       "            1.0       0.132366\n",
       "8           0.0       0.782348\n",
       "            1.0       0.217652\n",
       "9           0.0       0.887090\n",
       "            1.0       0.112910\n",
       "10          0.0       0.854676\n",
       "            1.0       0.145324\n",
       "11          0.0       0.873200\n",
       "            1.0       0.126800\n",
       "12          0.0       0.781848\n",
       "            1.0       0.218152\n",
       "13          0.0       0.805953\n",
       "            1.0       0.194047\n",
       "14          0.0       0.825967\n",
       "            1.0       0.174033\n",
       "15          0.0       1.000000\n",
       "16          0.0       0.803290\n",
       "            1.0       0.196710\n",
       "17          0.0       0.866477\n",
       "            1.0       0.133523\n",
       "18          0.0       1.000000\n",
       "19          0.0       0.861923\n",
       "            1.0       0.138077\n",
       "Name: RESULT, dtype: float64"
      ]
     },
     "execution_count": 24,
     "metadata": {},
     "output_type": "execute_result"
    }
   ],
   "source": [
    "data.groupby(['cluster_id'])['RESULT'].value_counts(normalize=True)"
   ]
  },
  {
   "cell_type": "code",
   "execution_count": 25,
   "metadata": {},
   "outputs": [
    {
     "data": {
      "text/plain": [
       "8     6515\n",
       "19    5917\n",
       "3     5187\n",
       "5     3721\n",
       "12    3658\n",
       "0     3482\n",
       "11    3194\n",
       "17    3168\n",
       "16    2918\n",
       "14    2896\n",
       "10    2780\n",
       "13    2654\n",
       "2     2484\n",
       "6     2313\n",
       "7     2274\n",
       "9     2223\n",
       "1     1919\n",
       "15    1313\n",
       "4     1128\n",
       "18    1112\n",
       "Name: cluster_id, dtype: int64"
      ]
     },
     "execution_count": 25,
     "metadata": {},
     "output_type": "execute_result"
    }
   ],
   "source": [
    "data.cluster_id.value_counts()"
   ]
  },
  {
   "cell_type": "code",
   "execution_count": null,
   "metadata": {
    "collapsed": true
   },
   "outputs": [],
   "source": []
  }
 ],
 "metadata": {
  "kernelspec": {
   "display_name": "Python 3",
   "language": "python",
   "name": "python3"
  },
  "language_info": {
   "codemirror_mode": {
    "name": "ipython",
    "version": 3
   },
   "file_extension": ".py",
   "mimetype": "text/x-python",
   "name": "python",
   "nbconvert_exporter": "python",
   "pygments_lexer": "ipython3",
   "version": "3.6.6"
  }
 },
 "nbformat": 4,
 "nbformat_minor": 2
}
