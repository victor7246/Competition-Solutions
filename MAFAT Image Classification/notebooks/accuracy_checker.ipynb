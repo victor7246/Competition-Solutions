{
 "cells": [
  {
   "cell_type": "code",
   "execution_count": 1,
   "metadata": {
    "collapsed": true
   },
   "outputs": [],
   "source": [
    "import numpy as np\n",
    "import pandas as pd"
   ]
  },
  {
   "cell_type": "code",
   "execution_count": 166,
   "metadata": {
    "collapsed": true
   },
   "outputs": [],
   "source": [
    "train_data = pd.read_csv('../data/train.csv')\n",
    "test_data = pd.read_csv('../data/test.csv')\n",
    "answer = pd.read_csv('../data/answer.csv')\n",
    "validation_ids = pd.read_csv('../data/validation_ids.csv')\n",
    "labels = np.load('../data/labels.npy')\n",
    "pred_val = np.load('../data/predicted_val_mobilnet.npy')\n",
    "pred_test = np.load('../data/predicted_test3.npy')"
   ]
  },
  {
   "cell_type": "code",
   "execution_count": 5,
   "metadata": {
    "collapsed": true
   },
   "outputs": [],
   "source": [
    "val_ids = list(validation_ids['id'])\n",
    "class_set = list(answer.keys())"
   ]
  },
  {
   "cell_type": "code",
   "execution_count": 6,
   "metadata": {
    "collapsed": true
   },
   "outputs": [],
   "source": [
    "sort_val = np.argsort(-pred_val,axis=0)\n",
    "tag_id = train_data[\"tag_id\"].iloc[val_ids].as_matrix()\n",
    "sort_tags = tag_id[sort_val]"
   ]
  },
  {
   "cell_type": "code",
   "execution_count": 7,
   "metadata": {
    "collapsed": true
   },
   "outputs": [],
   "source": [
    "sort_val_actual = np.argsort(-labels[val_ids,:],axis=0)\n",
    "sort_tags_actual = tag_id[sort_val_actual]"
   ]
  },
  {
   "cell_type": "code",
   "execution_count": 8,
   "metadata": {},
   "outputs": [
    {
     "data": {
      "text/plain": [
       "array([[27178, 15483, 18915, ..., 14118, 13569, 27224],\n",
       "       [12194, 18915, 30427, ..., 25283, 27415, 20814],\n",
       "       [16371, 28497, 27415, ..., 17825, 27224, 18915],\n",
       "       ..., \n",
       "       [27735, 33746, 31890, ..., 33677, 31801, 25543],\n",
       "       [15483, 28389, 15728, ..., 12319, 38160, 27955],\n",
       "       [39749, 12319, 21710, ..., 18831, 24997, 33746]], dtype=int64)"
      ]
     },
     "execution_count": 8,
     "metadata": {},
     "output_type": "execute_result"
    }
   ],
   "source": [
    "sort_tags"
   ]
  },
  {
   "cell_type": "code",
   "execution_count": 9,
   "metadata": {},
   "outputs": [
    {
     "data": {
      "text/plain": [
       "array([[21795, 31063, 21795, ..., 21795, 21795, 31063],\n",
       "       [28608, 33746, 28608, ..., 28608, 28608, 21795],\n",
       "       [34416, 21795, 34416, ..., 34416, 34416, 28608],\n",
       "       ..., \n",
       "       [21710, 13771, 13771, ..., 13771, 13771, 13771],\n",
       "       [33746, 25114, 33867, ..., 33867, 33867, 33867],\n",
       "       [31063, 21710, 21710, ..., 21710, 21710, 21710]], dtype=int64)"
      ]
     },
     "execution_count": 9,
     "metadata": {},
     "output_type": "execute_result"
    }
   ],
   "source": [
    "sort_tags_actual"
   ]
  },
  {
   "cell_type": "code",
   "execution_count": 10,
   "metadata": {
    "collapsed": true
   },
   "outputs": [],
   "source": [
    "from sklearn.metrics import average_precision_score"
   ]
  },
  {
   "cell_type": "code",
   "execution_count": 11,
   "metadata": {},
   "outputs": [
    {
     "name": "stdout",
     "output_type": "stream",
     "text": [
      "small vehicle 0.949041477078\n",
      "large vehicle 0.0209146102624\n",
      "minibus nan\n",
      "hatchback 0.204625796922\n",
      "sedan 0.685430486147\n",
      "bus 0.0151515151515\n",
      "minivan 0.0479302675371\n",
      "truck 0.00833333333333\n",
      "van nan\n",
      "jeep 0.0968887543616\n",
      "cement mixer nan\n",
      "dedicated agricultural vehicle nan\n",
      "tanker nan\n",
      "crane truck nan\n",
      "pickup 0.0547245205937\n",
      "light truck nan\n",
      "prime mover nan\n",
      "red 1.0\n",
      "black 0.0628707286839\n",
      "blue 0.385965876229\n",
      "silver/grey 0.259424710755\n",
      "white 0.468151753912\n",
      "other 0.039568023262\n",
      "yellow nan\n",
      "green nan\n",
      "sunroof 0.0625866627456\n",
      "luggage_carrier 0.115958049887\n",
      "open_cargo_area 0.0257336450885\n",
      "enclosed_cab nan\n",
      "spare_wheel 0.03125\n",
      "wrecked 0.00806451612903\n",
      "flatbed nan\n",
      "ladder nan\n",
      "enclosed_box nan\n",
      "soft_shell_box nan\n",
      "harnessed_to_a_cart nan\n",
      "ac_vents 0.00943396226415\n"
     ]
    },
    {
     "name": "stderr",
     "output_type": "stream",
     "text": [
      "C:\\Users\\asengup6\\Softwares\\Anaconda\\lib\\site-packages\\sklearn\\metrics\\ranking.py:415: RuntimeWarning: invalid value encountered in true_divide\n",
      "  recall = tps / tps[-1]\n",
      "C:\\Users\\asengup6\\Softwares\\Anaconda\\lib\\site-packages\\sklearn\\metrics\\ranking.py:96: RuntimeWarning: invalid value encountered in less\n",
      "  if np.any(dx < 0):\n"
     ]
    }
   ],
   "source": [
    "l = []\n",
    "for i in range(37):\n",
    "    val = average_precision_score(labels[val_ids,i], pred_val[:,i])\n",
    "    print (class_set[i],val)\n",
    "    if val >= 0:\n",
    "        l.append(val)\n",
    "np.mean(l)"
   ]
  },
  {
   "cell_type": "code",
   "execution_count": 12,
   "metadata": {},
   "outputs": [
    {
     "data": {
      "text/plain": [
       "0.2167642233496398"
      ]
     },
     "execution_count": 12,
     "metadata": {},
     "output_type": "execute_result"
    }
   ],
   "source": [
    "np.mean(l)"
   ]
  },
  {
   "cell_type": "code",
   "execution_count": 15,
   "metadata": {},
   "outputs": [],
   "source": [
    "dd = pd.DataFrame()\n",
    "dd['pred'] = pred_val[:,1]\n",
    "dd['actual'] = labels[val_ids,1]"
   ]
  },
  {
   "cell_type": "code",
   "execution_count": 18,
   "metadata": {},
   "outputs": [
    {
     "data": {
      "text/plain": [
       "array([[ 0.98640138,  0.00681405],\n",
       "       [ 0.97232729,  0.09947251]], dtype=float32)"
      ]
     },
     "execution_count": 18,
     "metadata": {},
     "output_type": "execute_result"
    }
   ],
   "source": [
    "pred_val[[25,35],:2]"
   ]
  },
  {
   "cell_type": "code",
   "execution_count": 21,
   "metadata": {},
   "outputs": [],
   "source": [
    "pred_val_actual = pred_val.copy()"
   ]
  },
  {
   "cell_type": "code",
   "execution_count": 22,
   "metadata": {
    "collapsed": true
   },
   "outputs": [],
   "source": [
    "pred_val[:,0] = np.exp(pred_val[:,0])/(pred_val[:,0]+pred_val[:,1])\n",
    "pred_val[:,1] = np.exp(pred_val[:,1])/(pred_val[:,0]+pred_val[:,1])"
   ]
  },
  {
   "cell_type": "code",
   "execution_count": 24,
   "metadata": {},
   "outputs": [
    {
     "data": {
      "text/plain": [
       "0.02140868140868141"
      ]
     },
     "execution_count": 24,
     "metadata": {},
     "output_type": "execute_result"
    }
   ],
   "source": [
    "average_precision_score(labels[val_ids,1], pred_val[:,1])"
   ]
  },
  {
   "cell_type": "code",
   "execution_count": 167,
   "metadata": {
    "collapsed": true
   },
   "outputs": [],
   "source": [
    "sort_val = np.argsort(-pred_test,axis=0)\n",
    "tag_id = test_data[\"tag_id\"].as_matrix()\n",
    "sort_tags = tag_id[sort_val]\n",
    "class_set = list(answer.keys())\n",
    "df = pd.DataFrame(data=sort_tags, columns = class_set)"
   ]
  },
  {
   "cell_type": "code",
   "execution_count": 168,
   "metadata": {},
   "outputs": [
    {
     "data": {
      "text/html": [
       "<div>\n",
       "<style>\n",
       "    .dataframe thead tr:only-child th {\n",
       "        text-align: right;\n",
       "    }\n",
       "\n",
       "    .dataframe thead th {\n",
       "        text-align: left;\n",
       "    }\n",
       "\n",
       "    .dataframe tbody tr th {\n",
       "        vertical-align: top;\n",
       "    }\n",
       "</style>\n",
       "<table border=\"1\" class=\"dataframe\">\n",
       "  <thead>\n",
       "    <tr style=\"text-align: right;\">\n",
       "      <th></th>\n",
       "      <th>small vehicle</th>\n",
       "      <th>large vehicle</th>\n",
       "      <th>minibus</th>\n",
       "      <th>hatchback</th>\n",
       "      <th>sedan</th>\n",
       "      <th>bus</th>\n",
       "      <th>minivan</th>\n",
       "      <th>truck</th>\n",
       "      <th>van</th>\n",
       "      <th>jeep</th>\n",
       "      <th>...</th>\n",
       "      <th>open_cargo_area</th>\n",
       "      <th>enclosed_cab</th>\n",
       "      <th>spare_wheel</th>\n",
       "      <th>wrecked</th>\n",
       "      <th>flatbed</th>\n",
       "      <th>ladder</th>\n",
       "      <th>enclosed_box</th>\n",
       "      <th>soft_shell_box</th>\n",
       "      <th>harnessed_to_a_cart</th>\n",
       "      <th>ac_vents</th>\n",
       "    </tr>\n",
       "  </thead>\n",
       "  <tbody>\n",
       "    <tr>\n",
       "      <th>0</th>\n",
       "      <td>25005</td>\n",
       "      <td>31472</td>\n",
       "      <td>31260</td>\n",
       "      <td>26439</td>\n",
       "      <td>28325</td>\n",
       "      <td>20169</td>\n",
       "      <td>32186</td>\n",
       "      <td>19482</td>\n",
       "      <td>35465</td>\n",
       "      <td>27618</td>\n",
       "      <td>...</td>\n",
       "      <td>28789</td>\n",
       "      <td>10419</td>\n",
       "      <td>34995</td>\n",
       "      <td>16426</td>\n",
       "      <td>31472</td>\n",
       "      <td>11777</td>\n",
       "      <td>18231</td>\n",
       "      <td>18039</td>\n",
       "      <td>17395</td>\n",
       "      <td>20169</td>\n",
       "    </tr>\n",
       "    <tr>\n",
       "      <th>1</th>\n",
       "      <td>19844</td>\n",
       "      <td>22883</td>\n",
       "      <td>29955</td>\n",
       "      <td>31433</td>\n",
       "      <td>29973</td>\n",
       "      <td>21694</td>\n",
       "      <td>26038</td>\n",
       "      <td>21363</td>\n",
       "      <td>38223</td>\n",
       "      <td>14158</td>\n",
       "      <td>...</td>\n",
       "      <td>28138</td>\n",
       "      <td>36473</td>\n",
       "      <td>39402</td>\n",
       "      <td>31553</td>\n",
       "      <td>14151</td>\n",
       "      <td>12697</td>\n",
       "      <td>28295</td>\n",
       "      <td>10792</td>\n",
       "      <td>23705</td>\n",
       "      <td>18628</td>\n",
       "    </tr>\n",
       "    <tr>\n",
       "      <th>2</th>\n",
       "      <td>11813</td>\n",
       "      <td>21830</td>\n",
       "      <td>39959</td>\n",
       "      <td>24041</td>\n",
       "      <td>39923</td>\n",
       "      <td>18628</td>\n",
       "      <td>20178</td>\n",
       "      <td>27435</td>\n",
       "      <td>21020</td>\n",
       "      <td>39402</td>\n",
       "      <td>...</td>\n",
       "      <td>35949</td>\n",
       "      <td>33809</td>\n",
       "      <td>37461</td>\n",
       "      <td>31015</td>\n",
       "      <td>29764</td>\n",
       "      <td>25765</td>\n",
       "      <td>16579</td>\n",
       "      <td>36294</td>\n",
       "      <td>18231</td>\n",
       "      <td>21694</td>\n",
       "    </tr>\n",
       "  </tbody>\n",
       "</table>\n",
       "<p>3 rows × 37 columns</p>\n",
       "</div>"
      ],
      "text/plain": [
       "   small vehicle  large vehicle  minibus  hatchback  sedan    bus  minivan  \\\n",
       "0          25005          31472    31260      26439  28325  20169    32186   \n",
       "1          19844          22883    29955      31433  29973  21694    26038   \n",
       "2          11813          21830    39959      24041  39923  18628    20178   \n",
       "\n",
       "   truck    van   jeep    ...     open_cargo_area  enclosed_cab  spare_wheel  \\\n",
       "0  19482  35465  27618    ...               28789         10419        34995   \n",
       "1  21363  38223  14158    ...               28138         36473        39402   \n",
       "2  27435  21020  39402    ...               35949         33809        37461   \n",
       "\n",
       "   wrecked  flatbed  ladder  enclosed_box  soft_shell_box  \\\n",
       "0    16426    31472   11777         18231           18039   \n",
       "1    31553    14151   12697         28295           10792   \n",
       "2    31015    29764   25765         16579           36294   \n",
       "\n",
       "   harnessed_to_a_cart  ac_vents  \n",
       "0                17395     20169  \n",
       "1                23705     18628  \n",
       "2                18231     21694  \n",
       "\n",
       "[3 rows x 37 columns]"
      ]
     },
     "execution_count": 168,
     "metadata": {},
     "output_type": "execute_result"
    }
   ],
   "source": [
    "df.head(3)"
   ]
  },
  {
   "cell_type": "code",
   "execution_count": 162,
   "metadata": {},
   "outputs": [],
   "source": [
    "sub2 = pd.read_csv('../answer.csv')"
   ]
  },
  {
   "cell_type": "code",
   "execution_count": 163,
   "metadata": {
    "collapsed": true
   },
   "outputs": [],
   "source": [
    "for col in ['crane truck','harnessed_to_a_cart','green','prime mover','minibus']:\n",
    "    df[col] = sub2[col]"
   ]
  },
  {
   "cell_type": "code",
   "execution_count": 164,
   "metadata": {},
   "outputs": [
    {
     "data": {
      "text/html": [
       "<div>\n",
       "<style>\n",
       "    .dataframe thead tr:only-child th {\n",
       "        text-align: right;\n",
       "    }\n",
       "\n",
       "    .dataframe thead th {\n",
       "        text-align: left;\n",
       "    }\n",
       "\n",
       "    .dataframe tbody tr th {\n",
       "        vertical-align: top;\n",
       "    }\n",
       "</style>\n",
       "<table border=\"1\" class=\"dataframe\">\n",
       "  <thead>\n",
       "    <tr style=\"text-align: right;\">\n",
       "      <th></th>\n",
       "      <th>small vehicle</th>\n",
       "      <th>large vehicle</th>\n",
       "      <th>minibus</th>\n",
       "      <th>hatchback</th>\n",
       "      <th>sedan</th>\n",
       "      <th>bus</th>\n",
       "      <th>minivan</th>\n",
       "      <th>truck</th>\n",
       "      <th>van</th>\n",
       "      <th>jeep</th>\n",
       "      <th>...</th>\n",
       "      <th>open_cargo_area</th>\n",
       "      <th>enclosed_cab</th>\n",
       "      <th>spare_wheel</th>\n",
       "      <th>wrecked</th>\n",
       "      <th>flatbed</th>\n",
       "      <th>ladder</th>\n",
       "      <th>enclosed_box</th>\n",
       "      <th>soft_shell_box</th>\n",
       "      <th>harnessed_to_a_cart</th>\n",
       "      <th>ac_vents</th>\n",
       "    </tr>\n",
       "  </thead>\n",
       "  <tbody>\n",
       "    <tr>\n",
       "      <th>0</th>\n",
       "      <td>11738</td>\n",
       "      <td>36543</td>\n",
       "      <td>24685</td>\n",
       "      <td>27787</td>\n",
       "      <td>39842</td>\n",
       "      <td>18628</td>\n",
       "      <td>30169</td>\n",
       "      <td>21830</td>\n",
       "      <td>12270</td>\n",
       "      <td>12803</td>\n",
       "      <td>...</td>\n",
       "      <td>28789</td>\n",
       "      <td>33809</td>\n",
       "      <td>25716</td>\n",
       "      <td>16426</td>\n",
       "      <td>19482</td>\n",
       "      <td>29625</td>\n",
       "      <td>15329</td>\n",
       "      <td>10738</td>\n",
       "      <td>29606</td>\n",
       "      <td>18628</td>\n",
       "    </tr>\n",
       "    <tr>\n",
       "      <th>1</th>\n",
       "      <td>35980</td>\n",
       "      <td>28535</td>\n",
       "      <td>28022</td>\n",
       "      <td>21404</td>\n",
       "      <td>10034</td>\n",
       "      <td>30871</td>\n",
       "      <td>38842</td>\n",
       "      <td>10738</td>\n",
       "      <td>11455</td>\n",
       "      <td>25202</td>\n",
       "      <td>...</td>\n",
       "      <td>15739</td>\n",
       "      <td>36473</td>\n",
       "      <td>28894</td>\n",
       "      <td>35120</td>\n",
       "      <td>19306</td>\n",
       "      <td>26532</td>\n",
       "      <td>21363</td>\n",
       "      <td>21820</td>\n",
       "      <td>22883</td>\n",
       "      <td>16045</td>\n",
       "    </tr>\n",
       "    <tr>\n",
       "      <th>2</th>\n",
       "      <td>29261</td>\n",
       "      <td>24495</td>\n",
       "      <td>31260</td>\n",
       "      <td>18032</td>\n",
       "      <td>10393</td>\n",
       "      <td>34775</td>\n",
       "      <td>32009</td>\n",
       "      <td>24371</td>\n",
       "      <td>34529</td>\n",
       "      <td>14361</td>\n",
       "      <td>...</td>\n",
       "      <td>37081</td>\n",
       "      <td>13092</td>\n",
       "      <td>12566</td>\n",
       "      <td>19410</td>\n",
       "      <td>23705</td>\n",
       "      <td>23179</td>\n",
       "      <td>33822</td>\n",
       "      <td>13124</td>\n",
       "      <td>31472</td>\n",
       "      <td>20169</td>\n",
       "    </tr>\n",
       "  </tbody>\n",
       "</table>\n",
       "<p>3 rows × 37 columns</p>\n",
       "</div>"
      ],
      "text/plain": [
       "   small vehicle  large vehicle  minibus  hatchback  sedan    bus  minivan  \\\n",
       "0          11738          36543    24685      27787  39842  18628    30169   \n",
       "1          35980          28535    28022      21404  10034  30871    38842   \n",
       "2          29261          24495    31260      18032  10393  34775    32009   \n",
       "\n",
       "   truck    van   jeep    ...     open_cargo_area  enclosed_cab  spare_wheel  \\\n",
       "0  21830  12270  12803    ...               28789         33809        25716   \n",
       "1  10738  11455  25202    ...               15739         36473        28894   \n",
       "2  24371  34529  14361    ...               37081         13092        12566   \n",
       "\n",
       "   wrecked  flatbed  ladder  enclosed_box  soft_shell_box  \\\n",
       "0    16426    19482   29625         15329           10738   \n",
       "1    35120    19306   26532         21363           21820   \n",
       "2    19410    23705   23179         33822           13124   \n",
       "\n",
       "   harnessed_to_a_cart  ac_vents  \n",
       "0                29606     18628  \n",
       "1                22883     16045  \n",
       "2                31472     20169  \n",
       "\n",
       "[3 rows x 37 columns]"
      ]
     },
     "execution_count": 164,
     "metadata": {},
     "output_type": "execute_result"
    }
   ],
   "source": [
    "df.head(3)"
   ]
  },
  {
   "cell_type": "code",
   "execution_count": 169,
   "metadata": {
    "collapsed": true
   },
   "outputs": [],
   "source": [
    "df.to_csv('../answer.csv', index=False)"
   ]
  },
  {
   "cell_type": "code",
   "execution_count": 146,
   "metadata": {
    "collapsed": true
   },
   "outputs": [],
   "source": [
    "class_set = list(answer.keys())\n",
    "df = pd.DataFrame(data=labels, columns = class_set)"
   ]
  },
  {
   "cell_type": "code",
   "execution_count": 26,
   "metadata": {},
   "outputs": [
    {
     "data": {
      "text/html": [
       "<div>\n",
       "<style>\n",
       "    .dataframe thead tr:only-child th {\n",
       "        text-align: right;\n",
       "    }\n",
       "\n",
       "    .dataframe thead th {\n",
       "        text-align: left;\n",
       "    }\n",
       "\n",
       "    .dataframe tbody tr th {\n",
       "        vertical-align: top;\n",
       "    }\n",
       "</style>\n",
       "<table border=\"1\" class=\"dataframe\">\n",
       "  <thead>\n",
       "    <tr style=\"text-align: right;\">\n",
       "      <th></th>\n",
       "      <th>small vehicle</th>\n",
       "      <th>large vehicle</th>\n",
       "      <th>minibus</th>\n",
       "      <th>hatchback</th>\n",
       "      <th>sedan</th>\n",
       "      <th>bus</th>\n",
       "      <th>minivan</th>\n",
       "      <th>truck</th>\n",
       "      <th>van</th>\n",
       "      <th>jeep</th>\n",
       "      <th>...</th>\n",
       "      <th>open_cargo_area</th>\n",
       "      <th>enclosed_cab</th>\n",
       "      <th>spare_wheel</th>\n",
       "      <th>wrecked</th>\n",
       "      <th>flatbed</th>\n",
       "      <th>ladder</th>\n",
       "      <th>enclosed_box</th>\n",
       "      <th>soft_shell_box</th>\n",
       "      <th>harnessed_to_a_cart</th>\n",
       "      <th>ac_vents</th>\n",
       "    </tr>\n",
       "  </thead>\n",
       "  <tbody>\n",
       "    <tr>\n",
       "      <th>0</th>\n",
       "      <td>1.0</td>\n",
       "      <td>0.0</td>\n",
       "      <td>0.0</td>\n",
       "      <td>0.0</td>\n",
       "      <td>1.0</td>\n",
       "      <td>0.0</td>\n",
       "      <td>0.0</td>\n",
       "      <td>0.0</td>\n",
       "      <td>0.0</td>\n",
       "      <td>0.0</td>\n",
       "      <td>...</td>\n",
       "      <td>0.0</td>\n",
       "      <td>0.0</td>\n",
       "      <td>0.0</td>\n",
       "      <td>0.0</td>\n",
       "      <td>0.0</td>\n",
       "      <td>0.0</td>\n",
       "      <td>0.0</td>\n",
       "      <td>0.0</td>\n",
       "      <td>0.0</td>\n",
       "      <td>0.0</td>\n",
       "    </tr>\n",
       "    <tr>\n",
       "      <th>1</th>\n",
       "      <td>0.0</td>\n",
       "      <td>1.0</td>\n",
       "      <td>0.0</td>\n",
       "      <td>0.0</td>\n",
       "      <td>0.0</td>\n",
       "      <td>0.0</td>\n",
       "      <td>0.0</td>\n",
       "      <td>1.0</td>\n",
       "      <td>0.0</td>\n",
       "      <td>0.0</td>\n",
       "      <td>...</td>\n",
       "      <td>0.0</td>\n",
       "      <td>0.0</td>\n",
       "      <td>0.0</td>\n",
       "      <td>0.0</td>\n",
       "      <td>0.0</td>\n",
       "      <td>0.0</td>\n",
       "      <td>1.0</td>\n",
       "      <td>0.0</td>\n",
       "      <td>0.0</td>\n",
       "      <td>0.0</td>\n",
       "    </tr>\n",
       "    <tr>\n",
       "      <th>2</th>\n",
       "      <td>1.0</td>\n",
       "      <td>0.0</td>\n",
       "      <td>0.0</td>\n",
       "      <td>0.0</td>\n",
       "      <td>1.0</td>\n",
       "      <td>0.0</td>\n",
       "      <td>0.0</td>\n",
       "      <td>0.0</td>\n",
       "      <td>0.0</td>\n",
       "      <td>0.0</td>\n",
       "      <td>...</td>\n",
       "      <td>0.0</td>\n",
       "      <td>0.0</td>\n",
       "      <td>0.0</td>\n",
       "      <td>0.0</td>\n",
       "      <td>0.0</td>\n",
       "      <td>0.0</td>\n",
       "      <td>0.0</td>\n",
       "      <td>0.0</td>\n",
       "      <td>0.0</td>\n",
       "      <td>0.0</td>\n",
       "    </tr>\n",
       "  </tbody>\n",
       "</table>\n",
       "<p>3 rows × 37 columns</p>\n",
       "</div>"
      ],
      "text/plain": [
       "   small vehicle  large vehicle  minibus  hatchback  sedan  bus  minivan  \\\n",
       "0            1.0            0.0      0.0        0.0    1.0  0.0      0.0   \n",
       "1            0.0            1.0      0.0        0.0    0.0  0.0      0.0   \n",
       "2            1.0            0.0      0.0        0.0    1.0  0.0      0.0   \n",
       "\n",
       "   truck  van  jeep    ...     open_cargo_area  enclosed_cab  spare_wheel  \\\n",
       "0    0.0  0.0   0.0    ...                 0.0           0.0          0.0   \n",
       "1    1.0  0.0   0.0    ...                 0.0           0.0          0.0   \n",
       "2    0.0  0.0   0.0    ...                 0.0           0.0          0.0   \n",
       "\n",
       "   wrecked  flatbed  ladder  enclosed_box  soft_shell_box  \\\n",
       "0      0.0      0.0     0.0           0.0             0.0   \n",
       "1      0.0      0.0     0.0           1.0             0.0   \n",
       "2      0.0      0.0     0.0           0.0             0.0   \n",
       "\n",
       "   harnessed_to_a_cart  ac_vents  \n",
       "0                  0.0       0.0  \n",
       "1                  0.0       0.0  \n",
       "2                  0.0       0.0  \n",
       "\n",
       "[3 rows x 37 columns]"
      ]
     },
     "execution_count": 26,
     "metadata": {},
     "output_type": "execute_result"
    }
   ],
   "source": [
    "df.head(3)"
   ]
  },
  {
   "cell_type": "code",
   "execution_count": 147,
   "metadata": {},
   "outputs": [
    {
     "name": "stdout",
     "output_type": "stream",
     "text": [
      "small vehicle\n",
      "11111.0\n",
      "large vehicle\n",
      "506.0\n",
      "minibus\n",
      "25.0\n",
      "hatchback\n",
      "3080.0\n",
      "sedan\n",
      "5783.0\n",
      "bus\n",
      "53.0\n",
      "minivan\n",
      "586.0\n",
      "truck\n",
      "179.0\n",
      "van\n",
      "362.0\n",
      "jeep\n",
      "865.0\n",
      "cement mixer\n",
      "17.0\n",
      "dedicated agricultural vehicle\n",
      "5.0\n",
      "tanker\n",
      "3.0\n",
      "crane truck\n",
      "16.0\n",
      "pickup\n",
      "435.0\n",
      "light truck\n",
      "164.0\n",
      "prime mover\n",
      "44.0\n",
      "red\n",
      "414.0\n",
      "black\n",
      "1158.0\n",
      "blue\n",
      "742.0\n",
      "silver/grey\n",
      "3505.0\n",
      "white\n",
      "4817.0\n",
      "other\n",
      "626.0\n",
      "yellow\n",
      "258.0\n",
      "green\n",
      "97.0\n",
      "sunroof\n",
      "853.0\n",
      "luggage_carrier\n",
      "383.0\n",
      "open_cargo_area\n",
      "256.0\n",
      "enclosed_cab\n",
      "172.0\n",
      "spare_wheel\n",
      "181.0\n",
      "wrecked\n",
      "881.0\n",
      "flatbed\n",
      "77.0\n",
      "ladder\n",
      "2.0\n",
      "enclosed_box\n",
      "133.0\n",
      "soft_shell_box\n",
      "30.0\n",
      "harnessed_to_a_cart\n",
      "4.0\n",
      "ac_vents\n",
      "72.0\n"
     ]
    }
   ],
   "source": [
    "for i in range(37):\n",
    "    print (class_set[i])\n",
    "    print (labels[:,i].sum(axis=0))"
   ]
  },
  {
   "cell_type": "code",
   "execution_count": 27,
   "metadata": {
    "collapsed": true
   },
   "outputs": [],
   "source": [
    "df.to_csv('../data/labels.csv',index=False)"
   ]
  },
  {
   "cell_type": "code",
   "execution_count": 28,
   "metadata": {},
   "outputs": [
    {
     "name": "stdout",
     "output_type": "stream",
     "text": [
      "small vehicle\n",
      "0.9564431436687613\n",
      "large vehicle\n",
      "0.0435568563312387\n",
      "minibus\n",
      "0.0021520185934406472\n",
      "hatchback\n",
      "0.26512869071188777\n",
      "sedan\n",
      "0.49780494103469053\n",
      "bus\n",
      "0.004562279418094172\n",
      "minivan\n",
      "0.050443315830248775\n",
      "truck\n",
      "0.015408453129035035\n",
      "van\n",
      "0.031161229233020574\n",
      "jeep\n",
      "0.0744598433330464\n",
      "cement mixer\n",
      "0.00146337264353964\n",
      "dedicated agricultural vehicle\n",
      "0.00043040371868812945\n",
      "tanker\n",
      "0.00025824223121287767\n",
      "crane truck\n",
      "0.0013772918998020143\n",
      "pickup\n",
      "0.03744512352586726\n",
      "light truck\n",
      "0.014117241972970646\n",
      "prime mover\n",
      "0.0037875527244555394\n",
      "red\n",
      "0.03563742790737712\n",
      "black\n",
      "0.09968150124817078\n",
      "blue\n",
      "0.06387191185331842\n",
      "silver/grey\n",
      "0.30171300680037877\n",
      "white\n",
      "0.4146509425841439\n",
      "other\n",
      "0.05388654557975381\n",
      "yellow\n",
      "0.02220883188430748\n",
      "green\n",
      "0.008349832142549711\n",
      "sunroof\n",
      "0.07342687440819488\n",
      "luggage_carrier\n",
      "0.03296892485151072\n",
      "open_cargo_area\n",
      "0.022036670396832228\n",
      "enclosed_cab\n",
      "0.014805887922871654\n",
      "spare_wheel\n",
      "0.015580614616510287\n",
      "wrecked\n",
      "0.07583713523284841\n",
      "flatbed\n",
      "0.006628217267797194\n",
      "ladder\n",
      "0.00017216148747525178\n",
      "enclosed_box\n",
      "0.011448738917104243\n",
      "soft_shell_box\n",
      "0.002582422312128777\n",
      "harnessed_to_a_cart\n",
      "0.00034432297495050356\n",
      "ac_vents\n",
      "0.006197813549109065\n"
     ]
    }
   ],
   "source": [
    "for col in df.columns:\n",
    "    print (col)\n",
    "    print (len(df[df[col] == 1])/len(df))"
   ]
  },
  {
   "cell_type": "code",
   "execution_count": 43,
   "metadata": {
    "collapsed": true
   },
   "outputs": [],
   "source": [
    "labels_df = df.copy()"
   ]
  },
  {
   "cell_type": "code",
   "execution_count": 45,
   "metadata": {
    "collapsed": true
   },
   "outputs": [],
   "source": [
    "def calculate_cond_prob_subclass(col1,col2):\n",
    "    try:\n",
    "        return len(labels_df[labels_df[col1] == 1][labels_df[col2] == 1])/len(labels_df[labels_df[col1] == 1])\n",
    "    except:\n",
    "        return 0"
   ]
  },
  {
   "cell_type": "code",
   "execution_count": 46,
   "metadata": {
    "collapsed": true
   },
   "outputs": [],
   "source": [
    "pred_val = pred_val_actual.copy()"
   ]
  },
  {
   "cell_type": "code",
   "execution_count": 47,
   "metadata": {},
   "outputs": [
    {
     "name": "stderr",
     "output_type": "stream",
     "text": [
      "C:\\Users\\asengup6\\Softwares\\Anaconda\\lib\\site-packages\\ipykernel_launcher.py:3: UserWarning: Boolean Series key will be reindexed to match DataFrame index.\n",
      "  This is separate from the ipykernel package so we can avoid doing imports until\n"
     ]
    }
   ],
   "source": [
    "for i in range(2,17):\n",
    "    \n",
    "    pred_val[:,i] = calculate_cond_prob_subclass(class_set[0],class_set[i])*pred_val[:,0] + calculate_cond_prob_subclass(class_set[1],class_set[i])*pred_val[:,1]\n",
    "for i in range(24,37):\n",
    "    pred_val[:,i] = 0\n",
    "    for j in range(2,17):\n",
    "        pred_val[:,i] += calculate_cond_prob_subclass(class_set[j],class_set[i])*pred_val[:,j]"
   ]
  },
  {
   "cell_type": "code",
   "execution_count": 48,
   "metadata": {},
   "outputs": [
    {
     "name": "stdout",
     "output_type": "stream",
     "text": [
      "small vehicle 0.949041477078\n",
      "large vehicle 0.0209146102624\n",
      "minibus nan\n",
      "hatchback 0.204147044809\n",
      "sedan 0.625430694297\n",
      "bus 0.0217391304348\n",
      "minivan 0.040586292567\n",
      "truck 0.00666666666667\n",
      "van nan\n",
      "jeep 0.0638960113568\n",
      "cement mixer nan\n",
      "dedicated agricultural vehicle nan\n",
      "tanker nan\n",
      "crane truck nan\n",
      "pickup 0.0611417836056\n",
      "light truck nan\n",
      "prime mover nan\n",
      "red 1.0\n",
      "black 0.0628707286839\n",
      "blue 0.385965876229\n",
      "silver/grey 0.259424710755\n",
      "white 0.468151753912\n",
      "other 0.039568023262\n",
      "yellow nan\n",
      "green nan\n",
      "sunroof 0.0884351856704\n",
      "luggage_carrier 0.0372289022183\n",
      "open_cargo_area 0.0736042692939\n",
      "enclosed_cab nan\n",
      "spare_wheel 0.0208333333333\n",
      "wrecked 0.0185185185185\n",
      "flatbed nan\n",
      "ladder nan\n",
      "enclosed_box nan\n",
      "soft_shell_box nan\n",
      "harnessed_to_a_cart nan\n",
      "ac_vents 0.0217391304348\n"
     ]
    },
    {
     "name": "stderr",
     "output_type": "stream",
     "text": [
      "C:\\Users\\asengup6\\Softwares\\Anaconda\\lib\\site-packages\\sklearn\\metrics\\ranking.py:415: RuntimeWarning: invalid value encountered in true_divide\n",
      "  recall = tps / tps[-1]\n",
      "C:\\Users\\asengup6\\Softwares\\Anaconda\\lib\\site-packages\\sklearn\\metrics\\ranking.py:96: RuntimeWarning: invalid value encountered in less\n",
      "  if np.any(dx < 0):\n"
     ]
    },
    {
     "data": {
      "text/plain": [
       "0.21285257825656731"
      ]
     },
     "execution_count": 48,
     "metadata": {},
     "output_type": "execute_result"
    }
   ],
   "source": [
    "l = []\n",
    "for i in range(37):\n",
    "    val = average_precision_score(labels[val_ids,i], pred_val[:,i])\n",
    "    print (class_set[i],val)\n",
    "    if val >= 0:\n",
    "        l.append(val)\n",
    "np.mean(l)"
   ]
  },
  {
   "cell_type": "code",
   "execution_count": 40,
   "metadata": {},
   "outputs": [],
   "source": [
    "pred_test_actual = pred_test.copy()"
   ]
  },
  {
   "cell_type": "code",
   "execution_count": 41,
   "metadata": {
    "collapsed": true
   },
   "outputs": [],
   "source": [
    "for i in range(2,17):\n",
    "    pred_test[:,i] = calculate_cond_prob_subclass(class_set[0],class_set[i])*pred_test[:,0] + calculate_cond_prob_subclass(class_set[1],class_set[i])*pred_test[:,1]\n",
    "for i in range(24,37):\n",
    "    pred_test[:,i] = 0\n",
    "    for j in range(2,17):\n",
    "        pred_test[:,i] += calculate_cond_prob_subclass(class_set[j],class_set[i])*pred_test[:,j]"
   ]
  },
  {
   "cell_type": "code",
   "execution_count": 87,
   "metadata": {
    "collapsed": true
   },
   "outputs": [],
   "source": [
    "from sklearn.metrics import f1_score, precision_score, recall_score, confusion_matrix"
   ]
  },
  {
   "cell_type": "code",
   "execution_count": 89,
   "metadata": {},
   "outputs": [
    {
     "name": "stdout",
     "output_type": "stream",
     "text": [
      "small vehicle\n",
      "1.0\n",
      "[[ 0  2]\n",
      " [ 0 75]]\n",
      "large vehicle\n",
      "0.0\n",
      "[[75  0]\n",
      " [ 2  0]]\n",
      "minibus\n",
      "0.0\n",
      "[[77]]\n",
      "hatchback\n",
      "0.0\n",
      "[[60  0]\n",
      " [17  0]]\n",
      "sedan\n",
      "0.416666666667\n",
      "[[15 14]\n",
      " [28 20]]\n",
      "bus\n",
      "0.0\n",
      "[[76  0]\n",
      " [ 1  0]]\n",
      "minivan\n",
      "0.0\n",
      "[[74  0]\n",
      " [ 3  0]]\n",
      "truck\n",
      "0.0\n",
      "[[76  0]\n",
      " [ 1  0]]\n",
      "van\n",
      "0.0\n",
      "[[77]]\n",
      "jeep\n",
      "0.0\n",
      "[[73  0]\n",
      " [ 4  0]]\n",
      "cement mixer\n",
      "0.0\n",
      "[[77]]\n",
      "dedicated agricultural vehicle\n",
      "0.0\n",
      "[[77]]\n",
      "tanker\n",
      "0.0\n",
      "[[77]]\n",
      "crane truck\n",
      "0.0\n",
      "[[77]]\n",
      "pickup\n",
      "0.0\n",
      "[[74  0]\n",
      " [ 3  0]]\n",
      "light truck\n",
      "0.0\n",
      "[[77]]\n",
      "prime mover\n",
      "0.0\n",
      "[[77]]\n",
      "red\n",
      "0.0\n",
      "[[76  0]\n",
      " [ 1  0]]\n",
      "black\n",
      "0.0\n",
      "[[70  0]\n",
      " [ 7  0]]\n",
      "blue\n",
      "0.0\n",
      "[[72  0]\n",
      " [ 5  0]]\n",
      "silver/grey\n",
      "0.0\n",
      "[[57  0]\n",
      " [20  0]]\n",
      "white\n",
      "0.128205128205\n",
      "[[35  3]\n",
      " [34  5]]\n",
      "other\n",
      "0.0\n",
      "[[72  0]\n",
      " [ 5  0]]\n",
      "yellow\n",
      "0.0\n",
      "[[77]]\n",
      "green\n",
      "0.0\n",
      "[[77]]\n",
      "sunroof\n",
      "0.0\n",
      "[[70  0]\n",
      " [ 7  0]]\n",
      "luggage_carrier\n",
      "0.0\n",
      "[[74  0]\n",
      " [ 3  0]]\n",
      "open_cargo_area\n",
      "0.0\n",
      "[[74  0]\n",
      " [ 3  0]]\n",
      "enclosed_cab\n",
      "0.0\n",
      "[[77]]\n",
      "spare_wheel\n",
      "0.0\n",
      "[[76  0]\n",
      " [ 1  0]]\n",
      "wrecked\n",
      "0.0\n",
      "[[76  0]\n",
      " [ 1  0]]\n",
      "flatbed\n",
      "0.0\n",
      "[[77]]\n",
      "ladder\n",
      "0.0\n",
      "[[77]]\n",
      "enclosed_box\n",
      "0.0\n",
      "[[77]]\n",
      "soft_shell_box\n",
      "0.0\n",
      "[[77]]\n",
      "harnessed_to_a_cart\n",
      "0.0\n",
      "[[77]]\n",
      "ac_vents\n",
      "0.0\n",
      "[[76  0]\n",
      " [ 1  0]]\n"
     ]
    }
   ],
   "source": [
    "for i in range(37):\n",
    "    val = recall_score(labels[val_ids,i], [0 if i < .5 else 1 for i in pred_val[:,i]])\n",
    "    print (class_set[i])\n",
    "    print (val)\n",
    "    print (confusion_matrix(labels[val_ids,i], [0 if i < .5 else 1 for i in pred_val[:,i]]))"
   ]
  },
  {
   "cell_type": "code",
   "execution_count": 58,
   "metadata": {
    "collapsed": true
   },
   "outputs": [],
   "source": [
    "l = [np.sum(labels[i,24:37]) for i in range(labels.shape[0])]"
   ]
  },
  {
   "cell_type": "code",
   "execution_count": 66,
   "metadata": {},
   "outputs": [
    {
     "data": {
      "text/plain": [
       "11352"
      ]
     },
     "execution_count": 66,
     "metadata": {},
     "output_type": "execute_result"
    }
   ],
   "source": [
    "l.count(0) + l.count(1)"
   ]
  },
  {
   "cell_type": "code",
   "execution_count": 60,
   "metadata": {},
   "outputs": [
    {
     "data": {
      "text/plain": [
       "0.0"
      ]
     },
     "execution_count": 60,
     "metadata": {},
     "output_type": "execute_result"
    }
   ],
   "source": [
    "min(l)"
   ]
  },
  {
   "cell_type": "code",
   "execution_count": 67,
   "metadata": {
    "collapsed": true
   },
   "outputs": [],
   "source": [
    "from sklearn.utils import class_weight"
   ]
  },
  {
   "cell_type": "code",
   "execution_count": 99,
   "metadata": {},
   "outputs": [
    {
     "data": {
      "text/plain": [
       "array([  1.07494526e-09,   8.49316133e-03,   3.22061448e-09, ...,\n",
       "         3.22061448e-09,   2.70598143e-06,   1.68010728e-10])"
      ]
     },
     "execution_count": 99,
     "metadata": {},
     "output_type": "execute_result"
    }
   ],
   "source": [
    "#list_classes = class_set[:2]\n",
    "y = labels[:,:]\n",
    "#sample_weights = class_weight.compute_class_weight('balanced', np.unique(y), y)\n",
    "sample_weights = class_weight.compute_sample_weight('balanced', y)\n",
    "sample_weights"
   ]
  },
  {
   "cell_type": "code",
   "execution_count": 97,
   "metadata": {},
   "outputs": [],
   "source": [
    "y_classes = pd.DataFrame(y,columns=class_set[17:24]).idxmax(1, skipna=False)"
   ]
  },
  {
   "cell_type": "code",
   "execution_count": 100,
   "metadata": {},
   "outputs": [
    {
     "data": {
      "text/plain": [
       "95.946638216681805"
      ]
     },
     "execution_count": 100,
     "metadata": {},
     "output_type": "execute_result"
    }
   ],
   "source": [
    "np.sum(sample_weights)"
   ]
  },
  {
   "cell_type": "code",
   "execution_count": 101,
   "metadata": {},
   "outputs": [
    {
     "ename": "TypeError",
     "evalue": "unhashable type: 'numpy.ndarray'",
     "output_type": "error",
     "traceback": [
      "\u001b[1;31m---------------------------------------------------------------------------\u001b[0m",
      "\u001b[1;31mTypeError\u001b[0m                                 Traceback (most recent call last)",
      "\u001b[1;32m<ipython-input-101-fb2604806f57>\u001b[0m in \u001b[0;36m<module>\u001b[1;34m()\u001b[0m\n\u001b[1;32m----> 1\u001b[1;33m \u001b[0msample_weights\u001b[0m \u001b[1;33m=\u001b[0m \u001b[0mclass_weight\u001b[0m\u001b[1;33m.\u001b[0m\u001b[0mcompute_class_weight\u001b[0m\u001b[1;33m(\u001b[0m\u001b[1;34m'balanced'\u001b[0m\u001b[1;33m,\u001b[0m \u001b[0mnp\u001b[0m\u001b[1;33m.\u001b[0m\u001b[0munique\u001b[0m\u001b[1;33m(\u001b[0m\u001b[0my\u001b[0m\u001b[1;33m)\u001b[0m\u001b[1;33m,\u001b[0m \u001b[0my\u001b[0m\u001b[1;33m)\u001b[0m\u001b[1;33m\u001b[0m\u001b[0m\n\u001b[0m",
      "\u001b[1;32mC:\\Users\\asengup6\\Softwares\\Anaconda\\lib\\site-packages\\sklearn\\utils\\class_weight.py\u001b[0m in \u001b[0;36mcompute_class_weight\u001b[1;34m(class_weight, classes, y)\u001b[0m\n\u001b[0;32m     43\u001b[0m     \u001b[1;32mfrom\u001b[0m \u001b[1;33m.\u001b[0m\u001b[1;33m.\u001b[0m\u001b[0mpreprocessing\u001b[0m \u001b[1;32mimport\u001b[0m \u001b[0mLabelEncoder\u001b[0m\u001b[1;33m\u001b[0m\u001b[0m\n\u001b[0;32m     44\u001b[0m \u001b[1;33m\u001b[0m\u001b[0m\n\u001b[1;32m---> 45\u001b[1;33m     \u001b[1;32mif\u001b[0m \u001b[0mset\u001b[0m\u001b[1;33m(\u001b[0m\u001b[0my\u001b[0m\u001b[1;33m)\u001b[0m \u001b[1;33m-\u001b[0m \u001b[0mset\u001b[0m\u001b[1;33m(\u001b[0m\u001b[0mclasses\u001b[0m\u001b[1;33m)\u001b[0m\u001b[1;33m:\u001b[0m\u001b[1;33m\u001b[0m\u001b[0m\n\u001b[0m\u001b[0;32m     46\u001b[0m         raise ValueError(\"classes should include all valid labels that can \"\n\u001b[0;32m     47\u001b[0m                          \"be in y\")\n",
      "\u001b[1;31mTypeError\u001b[0m: unhashable type: 'numpy.ndarray'"
     ]
    }
   ],
   "source": [
    "sample_weights = class_weight.compute_class_weight('balanced', np.unique(y), y)"
   ]
  },
  {
   "cell_type": "code",
   "execution_count": 102,
   "metadata": {},
   "outputs": [
    {
     "name": "stderr",
     "output_type": "stream",
     "text": [
      "Using TensorFlow backend.\n"
     ]
    }
   ],
   "source": [
    "import keras\n",
    "from keras.models import Model\n",
    "from keras.layers import Dense, Flatten\n",
    "from keras.optimizers import SGD\n",
    "from keras.activations import relu\n",
    "from keras.preprocessing.image import ImageDataGenerator"
   ]
  },
  {
   "cell_type": "code",
   "execution_count": 105,
   "metadata": {
    "collapsed": true
   },
   "outputs": [],
   "source": [
    "from keras.datasets import cifar10\n",
    "from keras.utils import np_utils"
   ]
  },
  {
   "cell_type": "code",
   "execution_count": 109,
   "metadata": {},
   "outputs": [],
   "source": [
    "(x_train, y_train), (x_test, y_test) = cifar10.load_data()\n",
    "num_classes = len(np.unique(y_train))\n",
    "y_train = np_utils.to_categorical(y_train, num_classes)\n",
    "y_test = np_utils.to_categorical(y_test, num_classes)\n",
    "\n",
    "datagen = ImageDataGenerator(\n",
    "    featurewise_center=True,\n",
    "    featurewise_std_normalization=True,\n",
    "    rotation_range=20,\n",
    "    width_shift_range=0.2,\n",
    "    height_shift_range=0.2,\n",
    "    horizontal_flip=True)"
   ]
  },
  {
   "cell_type": "code",
   "execution_count": 110,
   "metadata": {},
   "outputs": [],
   "source": [
    "train_flow = datagen.flow(x_train, y_train, batch_size=32)"
   ]
  },
  {
   "cell_type": "code",
   "execution_count": 113,
   "metadata": {},
   "outputs": [
    {
     "data": {
      "text/plain": [
       "50016"
      ]
     },
     "execution_count": 113,
     "metadata": {},
     "output_type": "execute_result"
    }
   ],
   "source": [
    "len(train_flow)*32"
   ]
  },
  {
   "cell_type": "code",
   "execution_count": 112,
   "metadata": {},
   "outputs": [
    {
     "data": {
      "text/plain": [
       "50000"
      ]
     },
     "execution_count": 112,
     "metadata": {},
     "output_type": "execute_result"
    }
   ],
   "source": [
    "len(x_train)"
   ]
  },
  {
   "cell_type": "code",
   "execution_count": 124,
   "metadata": {},
   "outputs": [],
   "source": [
    "l = np.sum(labels.sum(axis=0))/labels.sum(axis=0)\n",
    "l = l/min(l)"
   ]
  },
  {
   "cell_type": "code",
   "execution_count": 127,
   "metadata": {},
   "outputs": [
    {
     "ename": "TypeError",
     "evalue": "cannot convert dictionary update sequence element #0 to a sequence",
     "output_type": "error",
     "traceback": [
      "\u001b[1;31m---------------------------------------------------------------------------\u001b[0m",
      "\u001b[1;31mTypeError\u001b[0m                                 Traceback (most recent call last)",
      "\u001b[1;32m<ipython-input-127-a1cdd82e29c3>\u001b[0m in \u001b[0;36m<module>\u001b[1;34m()\u001b[0m\n\u001b[1;32m----> 1\u001b[1;33m \u001b[0mdict\u001b[0m\u001b[1;33m(\u001b[0m\u001b[0ml\u001b[0m\u001b[1;33m)\u001b[0m\u001b[1;33m\u001b[0m\u001b[0m\n\u001b[0m",
      "\u001b[1;31mTypeError\u001b[0m: cannot convert dictionary update sequence element #0 to a sequence"
     ]
    }
   ],
   "source": []
  },
  {
   "cell_type": "code",
   "execution_count": 128,
   "metadata": {
    "collapsed": true
   },
   "outputs": [],
   "source": [
    "import numpy as np\n",
    "\n",
    "A = np.array([1, 2, 3])\n",
    "\n",
    "N = A.size\n",
    "B = np.pad(np.diag(A), ((0,N),(0,0)), mode='constant')"
   ]
  },
  {
   "cell_type": "code",
   "execution_count": 129,
   "metadata": {},
   "outputs": [
    {
     "data": {
      "text/plain": [
       "array([[1, 0, 0],\n",
       "       [0, 2, 0],\n",
       "       [0, 0, 3]])"
      ]
     },
     "execution_count": 129,
     "metadata": {},
     "output_type": "execute_result"
    }
   ],
   "source": [
    "np.diag(A)"
   ]
  },
  {
   "cell_type": "code",
   "execution_count": 132,
   "metadata": {
    "collapsed": true
   },
   "outputs": [],
   "source": [
    "A = np.array([[[1, 2],[2,3]],[[1, 2],[2,3]],[[1, 2],[2,5]],[[1, 2],[3,3]]])"
   ]
  },
  {
   "cell_type": "code",
   "execution_count": 133,
   "metadata": {},
   "outputs": [
    {
     "data": {
      "text/plain": [
       "array([[[1, 2],\n",
       "        [2, 3]],\n",
       "\n",
       "       [[1, 2],\n",
       "        [2, 3]],\n",
       "\n",
       "       [[1, 2],\n",
       "        [2, 5]],\n",
       "\n",
       "       [[1, 2],\n",
       "        [3, 3]]])"
      ]
     },
     "execution_count": 133,
     "metadata": {},
     "output_type": "execute_result"
    }
   ],
   "source": [
    "A"
   ]
  },
  {
   "cell_type": "code",
   "execution_count": 134,
   "metadata": {},
   "outputs": [
    {
     "data": {
      "text/plain": [
       "(4, 2, 2)"
      ]
     },
     "execution_count": 134,
     "metadata": {},
     "output_type": "execute_result"
    }
   ],
   "source": [
    "A.shape"
   ]
  },
  {
   "cell_type": "code",
   "execution_count": 136,
   "metadata": {},
   "outputs": [
    {
     "ename": "ValueError",
     "evalue": "could not broadcast input array from shape (7,5) into shape (4,2)",
     "output_type": "error",
     "traceback": [
      "\u001b[1;31m---------------------------------------------------------------------------\u001b[0m",
      "\u001b[1;31mValueError\u001b[0m                                Traceback (most recent call last)",
      "\u001b[1;32m<ipython-input-136-9ea3a04f79c4>\u001b[0m in \u001b[0;36m<module>\u001b[1;34m()\u001b[0m\n\u001b[0;32m      1\u001b[0m \u001b[1;32mfor\u001b[0m \u001b[0mi\u001b[0m \u001b[1;32min\u001b[0m \u001b[0mrange\u001b[0m\u001b[1;33m(\u001b[0m\u001b[0mA\u001b[0m\u001b[1;33m.\u001b[0m\u001b[0mshape\u001b[0m\u001b[1;33m[\u001b[0m\u001b[1;36m2\u001b[0m\u001b[1;33m]\u001b[0m\u001b[1;33m)\u001b[0m\u001b[1;33m:\u001b[0m\u001b[1;33m\u001b[0m\u001b[0m\n\u001b[1;32m----> 2\u001b[1;33m     \u001b[0mA\u001b[0m\u001b[1;33m[\u001b[0m\u001b[1;33m:\u001b[0m\u001b[1;33m,\u001b[0m\u001b[1;33m:\u001b[0m\u001b[1;33m,\u001b[0m\u001b[0mi\u001b[0m\u001b[1;33m]\u001b[0m \u001b[1;33m=\u001b[0m \u001b[0mnp\u001b[0m\u001b[1;33m.\u001b[0m\u001b[0mpad\u001b[0m\u001b[1;33m(\u001b[0m\u001b[0mA\u001b[0m\u001b[1;33m[\u001b[0m\u001b[1;33m:\u001b[0m\u001b[1;33m,\u001b[0m\u001b[1;33m:\u001b[0m\u001b[1;33m,\u001b[0m\u001b[0mi\u001b[0m\u001b[1;33m]\u001b[0m\u001b[1;33m,\u001b[0m \u001b[1;33m(\u001b[0m\u001b[1;33m(\u001b[0m\u001b[1;36m0\u001b[0m\u001b[1;33m,\u001b[0m\u001b[1;36m3\u001b[0m\u001b[1;33m)\u001b[0m\u001b[1;33m,\u001b[0m\u001b[1;33m(\u001b[0m\u001b[1;36m0\u001b[0m\u001b[1;33m,\u001b[0m\u001b[1;36m3\u001b[0m\u001b[1;33m)\u001b[0m\u001b[1;33m)\u001b[0m\u001b[1;33m,\u001b[0m \u001b[0mmode\u001b[0m\u001b[1;33m=\u001b[0m\u001b[1;34m'constant'\u001b[0m\u001b[1;33m)\u001b[0m\u001b[1;33m\u001b[0m\u001b[0m\n\u001b[0m",
      "\u001b[1;31mValueError\u001b[0m: could not broadcast input array from shape (7,5) into shape (4,2)"
     ]
    }
   ],
   "source": [
    "for i in range(A.shape[2]):\n",
    "    A[:,:,i] = np.pad(A[:,:,i], ((0,3),(0,3)), mode='constant')"
   ]
  },
  {
   "cell_type": "code",
   "execution_count": 138,
   "metadata": {},
   "outputs": [],
   "source": [
    "B = A[:,:,i].copy()"
   ]
  },
  {
   "cell_type": "code",
   "execution_count": 139,
   "metadata": {},
   "outputs": [
    {
     "data": {
      "text/plain": [
       "(4, 2)"
      ]
     },
     "execution_count": 139,
     "metadata": {},
     "output_type": "execute_result"
    }
   ],
   "source": [
    "B.shape"
   ]
  },
  {
   "cell_type": "code",
   "execution_count": 140,
   "metadata": {},
   "outputs": [
    {
     "data": {
      "text/plain": [
       "array([[1, 2, 0],\n",
       "       [1, 2, 0],\n",
       "       [1, 2, 0],\n",
       "       [1, 3, 0],\n",
       "       [0, 0, 0]])"
      ]
     },
     "execution_count": 140,
     "metadata": {},
     "output_type": "execute_result"
    }
   ],
   "source": [
    "np.pad(B, ((0,1),(0,1)), mode='constant')"
   ]
  },
  {
   "cell_type": "code",
   "execution_count": 141,
   "metadata": {
    "collapsed": true
   },
   "outputs": [],
   "source": [
    "def pad_along_axis(array: np.ndarray, target_length, axis=0):\n",
    "\n",
    "    pad_size = target_length - array.shape[axis]\n",
    "    axis_nb = len(array.shape)\n",
    "\n",
    "    if pad_size < 0:\n",
    "        return a\n",
    "\n",
    "    npad = [(0, 0) for x in range(axis_nb)]\n",
    "    npad[axis] = (0, pad_size)\n",
    "\n",
    "    b = np.pad(array, pad_width=npad, mode='constant', constant_values=0)\n",
    "\n",
    "    return b"
   ]
  },
  {
   "cell_type": "code",
   "execution_count": 142,
   "metadata": {
    "collapsed": true
   },
   "outputs": [],
   "source": [
    "A = pad_along_axis(A,7,axis=0)"
   ]
  },
  {
   "cell_type": "code",
   "execution_count": 143,
   "metadata": {
    "collapsed": true
   },
   "outputs": [],
   "source": [
    "A = pad_along_axis(A,5,axis=1)"
   ]
  },
  {
   "cell_type": "code",
   "execution_count": 144,
   "metadata": {},
   "outputs": [
    {
     "data": {
      "text/plain": [
       "(7, 5, 2)"
      ]
     },
     "execution_count": 144,
     "metadata": {},
     "output_type": "execute_result"
    }
   ],
   "source": [
    "A.shape"
   ]
  },
  {
   "cell_type": "code",
   "execution_count": 145,
   "metadata": {},
   "outputs": [
    {
     "data": {
      "text/plain": [
       "array([[[1, 2],\n",
       "        [2, 3],\n",
       "        [0, 0],\n",
       "        [0, 0],\n",
       "        [0, 0]],\n",
       "\n",
       "       [[1, 2],\n",
       "        [2, 3],\n",
       "        [0, 0],\n",
       "        [0, 0],\n",
       "        [0, 0]],\n",
       "\n",
       "       [[1, 2],\n",
       "        [2, 5],\n",
       "        [0, 0],\n",
       "        [0, 0],\n",
       "        [0, 0]],\n",
       "\n",
       "       [[1, 2],\n",
       "        [3, 3],\n",
       "        [0, 0],\n",
       "        [0, 0],\n",
       "        [0, 0]],\n",
       "\n",
       "       [[0, 0],\n",
       "        [0, 0],\n",
       "        [0, 0],\n",
       "        [0, 0],\n",
       "        [0, 0]],\n",
       "\n",
       "       [[0, 0],\n",
       "        [0, 0],\n",
       "        [0, 0],\n",
       "        [0, 0],\n",
       "        [0, 0]],\n",
       "\n",
       "       [[0, 0],\n",
       "        [0, 0],\n",
       "        [0, 0],\n",
       "        [0, 0],\n",
       "        [0, 0]]])"
      ]
     },
     "execution_count": 145,
     "metadata": {},
     "output_type": "execute_result"
    }
   ],
   "source": [
    "A"
   ]
  },
  {
   "cell_type": "code",
   "execution_count": 148,
   "metadata": {},
   "outputs": [
    {
     "data": {
      "text/plain": [
       "array([[  7.93058634e-01,   2.60418504e-01,   8.15241765e-06, ...,\n",
       "          3.75787204e-04,   2.72812649e-05,   3.36858602e-06],\n",
       "       [  4.31590192e-02,   9.90001321e-01,   2.44091934e-05, ...,\n",
       "          9.57784394e-08,   1.45422207e-04,   5.29393693e-03],\n",
       "       [  9.99993801e-01,   6.79437107e-06,   5.00913302e-06, ...,\n",
       "          3.51152130e-09,   2.84095881e-06,   5.52734651e-04],\n",
       "       ..., \n",
       "       [  9.99999881e-01,   8.23265154e-08,   4.98503638e-09, ...,\n",
       "          2.37951951e-07,   5.89575500e-08,   1.80734176e-07],\n",
       "       [  1.00000000e+00,   2.13732476e-09,   1.23557029e-07, ...,\n",
       "          1.32844491e-07,   9.29044042e-09,   1.03288311e-08],\n",
       "       [  9.99988079e-01,   5.72851604e-06,   3.36943390e-06, ...,\n",
       "          3.02176272e-06,   8.95705625e-08,   5.67135771e-07]], dtype=float32)"
      ]
     },
     "execution_count": 148,
     "metadata": {},
     "output_type": "execute_result"
    }
   ],
   "source": [
    "pred_test"
   ]
  },
  {
   "cell_type": "code",
   "execution_count": 149,
   "metadata": {
    "collapsed": true
   },
   "outputs": [],
   "source": [
    "pred_test_df = pd.DataFrame(pred_test,columns=class_set)"
   ]
  },
  {
   "cell_type": "code",
   "execution_count": 150,
   "metadata": {},
   "outputs": [
    {
     "data": {
      "text/html": [
       "<div>\n",
       "<style>\n",
       "    .dataframe thead tr:only-child th {\n",
       "        text-align: right;\n",
       "    }\n",
       "\n",
       "    .dataframe thead th {\n",
       "        text-align: left;\n",
       "    }\n",
       "\n",
       "    .dataframe tbody tr th {\n",
       "        vertical-align: top;\n",
       "    }\n",
       "</style>\n",
       "<table border=\"1\" class=\"dataframe\">\n",
       "  <thead>\n",
       "    <tr style=\"text-align: right;\">\n",
       "      <th></th>\n",
       "      <th>small vehicle</th>\n",
       "      <th>large vehicle</th>\n",
       "      <th>minibus</th>\n",
       "      <th>hatchback</th>\n",
       "      <th>sedan</th>\n",
       "      <th>bus</th>\n",
       "      <th>minivan</th>\n",
       "      <th>truck</th>\n",
       "      <th>van</th>\n",
       "      <th>jeep</th>\n",
       "      <th>...</th>\n",
       "      <th>open_cargo_area</th>\n",
       "      <th>enclosed_cab</th>\n",
       "      <th>spare_wheel</th>\n",
       "      <th>wrecked</th>\n",
       "      <th>flatbed</th>\n",
       "      <th>ladder</th>\n",
       "      <th>enclosed_box</th>\n",
       "      <th>soft_shell_box</th>\n",
       "      <th>harnessed_to_a_cart</th>\n",
       "      <th>ac_vents</th>\n",
       "    </tr>\n",
       "  </thead>\n",
       "  <tbody>\n",
       "    <tr>\n",
       "      <th>0</th>\n",
       "      <td>0.793059</td>\n",
       "      <td>0.260419</td>\n",
       "      <td>0.000008</td>\n",
       "      <td>0.014592</td>\n",
       "      <td>0.108364</td>\n",
       "      <td>0.000005</td>\n",
       "      <td>0.000009</td>\n",
       "      <td>0.028336</td>\n",
       "      <td>0.000243</td>\n",
       "      <td>0.000234</td>\n",
       "      <td>...</td>\n",
       "      <td>2.374506e-06</td>\n",
       "      <td>5.075285e-07</td>\n",
       "      <td>3.438362e-06</td>\n",
       "      <td>7.646944e-07</td>\n",
       "      <td>0.002544</td>\n",
       "      <td>0.000007</td>\n",
       "      <td>0.001385</td>\n",
       "      <td>3.757872e-04</td>\n",
       "      <td>0.000027</td>\n",
       "      <td>0.000003</td>\n",
       "    </tr>\n",
       "    <tr>\n",
       "      <th>1</th>\n",
       "      <td>0.043159</td>\n",
       "      <td>0.990001</td>\n",
       "      <td>0.000024</td>\n",
       "      <td>0.000049</td>\n",
       "      <td>0.000176</td>\n",
       "      <td>0.006235</td>\n",
       "      <td>0.000017</td>\n",
       "      <td>0.000609</td>\n",
       "      <td>0.000004</td>\n",
       "      <td>0.000399</td>\n",
       "      <td>...</td>\n",
       "      <td>3.341957e-04</td>\n",
       "      <td>1.289210e-04</td>\n",
       "      <td>2.489112e-04</td>\n",
       "      <td>2.860694e-06</td>\n",
       "      <td>0.000030</td>\n",
       "      <td>0.000008</td>\n",
       "      <td>0.120740</td>\n",
       "      <td>9.577844e-08</td>\n",
       "      <td>0.000145</td>\n",
       "      <td>0.005294</td>\n",
       "    </tr>\n",
       "    <tr>\n",
       "      <th>2</th>\n",
       "      <td>0.999994</td>\n",
       "      <td>0.000007</td>\n",
       "      <td>0.000005</td>\n",
       "      <td>0.000004</td>\n",
       "      <td>0.111030</td>\n",
       "      <td>0.000075</td>\n",
       "      <td>0.000057</td>\n",
       "      <td>0.000082</td>\n",
       "      <td>0.997817</td>\n",
       "      <td>0.000001</td>\n",
       "      <td>...</td>\n",
       "      <td>1.379167e-08</td>\n",
       "      <td>2.452244e-06</td>\n",
       "      <td>2.209188e-08</td>\n",
       "      <td>6.227408e-08</td>\n",
       "      <td>0.000001</td>\n",
       "      <td>0.000004</td>\n",
       "      <td>0.000010</td>\n",
       "      <td>3.511521e-09</td>\n",
       "      <td>0.000003</td>\n",
       "      <td>0.000553</td>\n",
       "    </tr>\n",
       "  </tbody>\n",
       "</table>\n",
       "<p>3 rows × 37 columns</p>\n",
       "</div>"
      ],
      "text/plain": [
       "   small vehicle  large vehicle   minibus  hatchback     sedan       bus  \\\n",
       "0       0.793059       0.260419  0.000008   0.014592  0.108364  0.000005   \n",
       "1       0.043159       0.990001  0.000024   0.000049  0.000176  0.006235   \n",
       "2       0.999994       0.000007  0.000005   0.000004  0.111030  0.000075   \n",
       "\n",
       "    minivan     truck       van      jeep    ...     open_cargo_area  \\\n",
       "0  0.000009  0.028336  0.000243  0.000234    ...        2.374506e-06   \n",
       "1  0.000017  0.000609  0.000004  0.000399    ...        3.341957e-04   \n",
       "2  0.000057  0.000082  0.997817  0.000001    ...        1.379167e-08   \n",
       "\n",
       "   enclosed_cab   spare_wheel       wrecked   flatbed    ladder  enclosed_box  \\\n",
       "0  5.075285e-07  3.438362e-06  7.646944e-07  0.002544  0.000007      0.001385   \n",
       "1  1.289210e-04  2.489112e-04  2.860694e-06  0.000030  0.000008      0.120740   \n",
       "2  2.452244e-06  2.209188e-08  6.227408e-08  0.000001  0.000004      0.000010   \n",
       "\n",
       "   soft_shell_box  harnessed_to_a_cart  ac_vents  \n",
       "0    3.757872e-04             0.000027  0.000003  \n",
       "1    9.577844e-08             0.000145  0.005294  \n",
       "2    3.511521e-09             0.000003  0.000553  \n",
       "\n",
       "[3 rows x 37 columns]"
      ]
     },
     "execution_count": 150,
     "metadata": {},
     "output_type": "execute_result"
    }
   ],
   "source": [
    "pred_test_df.head(3)"
   ]
  },
  {
   "cell_type": "code",
   "execution_count": 153,
   "metadata": {},
   "outputs": [
    {
     "data": {
      "text/html": [
       "<div>\n",
       "<style>\n",
       "    .dataframe thead tr:only-child th {\n",
       "        text-align: right;\n",
       "    }\n",
       "\n",
       "    .dataframe thead th {\n",
       "        text-align: left;\n",
       "    }\n",
       "\n",
       "    .dataframe tbody tr th {\n",
       "        vertical-align: top;\n",
       "    }\n",
       "</style>\n",
       "<table border=\"1\" class=\"dataframe\">\n",
       "  <thead>\n",
       "    <tr style=\"text-align: right;\">\n",
       "      <th></th>\n",
       "      <th>red</th>\n",
       "      <th>black</th>\n",
       "      <th>blue</th>\n",
       "      <th>silver/grey</th>\n",
       "      <th>white</th>\n",
       "      <th>other</th>\n",
       "      <th>yellow</th>\n",
       "    </tr>\n",
       "  </thead>\n",
       "  <tbody>\n",
       "    <tr>\n",
       "      <th>867</th>\n",
       "      <td>3.149072e-08</td>\n",
       "      <td>3.882689e-07</td>\n",
       "      <td>2.601159e-08</td>\n",
       "      <td>3.804866e-03</td>\n",
       "      <td>1.351512e-03</td>\n",
       "      <td>0.999624</td>\n",
       "      <td>1.868182e-07</td>\n",
       "    </tr>\n",
       "    <tr>\n",
       "      <th>1434</th>\n",
       "      <td>3.184302e-06</td>\n",
       "      <td>3.199502e-07</td>\n",
       "      <td>3.728247e-09</td>\n",
       "      <td>5.503530e-02</td>\n",
       "      <td>6.432218e-05</td>\n",
       "      <td>0.999511</td>\n",
       "      <td>2.379777e-06</td>\n",
       "    </tr>\n",
       "    <tr>\n",
       "      <th>1703</th>\n",
       "      <td>7.134386e-05</td>\n",
       "      <td>1.010404e-05</td>\n",
       "      <td>1.781937e-09</td>\n",
       "      <td>4.384503e-03</td>\n",
       "      <td>4.640076e-08</td>\n",
       "      <td>0.999344</td>\n",
       "      <td>4.461105e-07</td>\n",
       "    </tr>\n",
       "    <tr>\n",
       "      <th>6044</th>\n",
       "      <td>2.405378e-04</td>\n",
       "      <td>2.143366e-03</td>\n",
       "      <td>2.692805e-07</td>\n",
       "      <td>8.230897e-06</td>\n",
       "      <td>1.105932e-04</td>\n",
       "      <td>0.998869</td>\n",
       "      <td>1.323039e-04</td>\n",
       "    </tr>\n",
       "    <tr>\n",
       "      <th>1169</th>\n",
       "      <td>1.013229e-02</td>\n",
       "      <td>1.679503e-10</td>\n",
       "      <td>1.932206e-06</td>\n",
       "      <td>7.610326e-09</td>\n",
       "      <td>2.233437e-06</td>\n",
       "      <td>0.998146</td>\n",
       "      <td>1.000304e-04</td>\n",
       "    </tr>\n",
       "    <tr>\n",
       "      <th>1732</th>\n",
       "      <td>4.315515e-06</td>\n",
       "      <td>8.207587e-05</td>\n",
       "      <td>1.608814e-07</td>\n",
       "      <td>1.312069e-02</td>\n",
       "      <td>1.998957e-02</td>\n",
       "      <td>0.997913</td>\n",
       "      <td>7.661437e-05</td>\n",
       "    </tr>\n",
       "    <tr>\n",
       "      <th>7902</th>\n",
       "      <td>1.230191e-04</td>\n",
       "      <td>1.705289e-05</td>\n",
       "      <td>1.104620e-06</td>\n",
       "      <td>3.859610e-02</td>\n",
       "      <td>7.846337e-06</td>\n",
       "      <td>0.997695</td>\n",
       "      <td>3.722483e-06</td>\n",
       "    </tr>\n",
       "    <tr>\n",
       "      <th>5823</th>\n",
       "      <td>1.035842e-01</td>\n",
       "      <td>1.178787e-03</td>\n",
       "      <td>2.822945e-04</td>\n",
       "      <td>4.799866e-06</td>\n",
       "      <td>5.064753e-06</td>\n",
       "      <td>0.997446</td>\n",
       "      <td>4.099200e-04</td>\n",
       "    </tr>\n",
       "    <tr>\n",
       "      <th>1168</th>\n",
       "      <td>8.467638e-03</td>\n",
       "      <td>3.850332e-03</td>\n",
       "      <td>4.858025e-07</td>\n",
       "      <td>4.009318e-04</td>\n",
       "      <td>8.190877e-07</td>\n",
       "      <td>0.997280</td>\n",
       "      <td>7.175704e-08</td>\n",
       "    </tr>\n",
       "    <tr>\n",
       "      <th>4131</th>\n",
       "      <td>2.125677e-05</td>\n",
       "      <td>4.827520e-08</td>\n",
       "      <td>1.908751e-09</td>\n",
       "      <td>1.864837e-07</td>\n",
       "      <td>1.004419e-04</td>\n",
       "      <td>0.995525</td>\n",
       "      <td>8.616871e-03</td>\n",
       "    </tr>\n",
       "  </tbody>\n",
       "</table>\n",
       "</div>"
      ],
      "text/plain": [
       "               red         black          blue   silver/grey         white  \\\n",
       "867   3.149072e-08  3.882689e-07  2.601159e-08  3.804866e-03  1.351512e-03   \n",
       "1434  3.184302e-06  3.199502e-07  3.728247e-09  5.503530e-02  6.432218e-05   \n",
       "1703  7.134386e-05  1.010404e-05  1.781937e-09  4.384503e-03  4.640076e-08   \n",
       "6044  2.405378e-04  2.143366e-03  2.692805e-07  8.230897e-06  1.105932e-04   \n",
       "1169  1.013229e-02  1.679503e-10  1.932206e-06  7.610326e-09  2.233437e-06   \n",
       "1732  4.315515e-06  8.207587e-05  1.608814e-07  1.312069e-02  1.998957e-02   \n",
       "7902  1.230191e-04  1.705289e-05  1.104620e-06  3.859610e-02  7.846337e-06   \n",
       "5823  1.035842e-01  1.178787e-03  2.822945e-04  4.799866e-06  5.064753e-06   \n",
       "1168  8.467638e-03  3.850332e-03  4.858025e-07  4.009318e-04  8.190877e-07   \n",
       "4131  2.125677e-05  4.827520e-08  1.908751e-09  1.864837e-07  1.004419e-04   \n",
       "\n",
       "         other        yellow  \n",
       "867   0.999624  1.868182e-07  \n",
       "1434  0.999511  2.379777e-06  \n",
       "1703  0.999344  4.461105e-07  \n",
       "6044  0.998869  1.323039e-04  \n",
       "1169  0.998146  1.000304e-04  \n",
       "1732  0.997913  7.661437e-05  \n",
       "7902  0.997695  3.722483e-06  \n",
       "5823  0.997446  4.099200e-04  \n",
       "1168  0.997280  7.175704e-08  \n",
       "4131  0.995525  8.616871e-03  "
      ]
     },
     "execution_count": 153,
     "metadata": {},
     "output_type": "execute_result"
    }
   ],
   "source": [
    "pred_test_df[class_set[17:24]].sort_values(['other'],ascending=False).head(10)"
   ]
  },
  {
   "cell_type": "code",
   "execution_count": 152,
   "metadata": {},
   "outputs": [
    {
     "data": {
      "text/plain": [
       "0.99962354"
      ]
     },
     "execution_count": 152,
     "metadata": {},
     "output_type": "execute_result"
    }
   ],
   "source": []
  },
  {
   "cell_type": "code",
   "execution_count": 170,
   "metadata": {
    "collapsed": true
   },
   "outputs": [],
   "source": [
    "dict1 = {'open_cargo_area': 0.71634521836368237, 'sunroof': 0.8894503819172952, 'yellow': 0.90033566059244174, 'ac_vents': 0.93923176841407263, 'large vehicle': 0.92271880235458481, 'soft_shell_box': 0.29278169203285781, 'small vehicle': 0.99575099506312537, 'flatbed': 0.31267316017316016, 'blue': 0.62639433155916491, 'van': 0.73524767234260346, 'wrecked': 0.37307255784076809, 'crane truck': 0.79365079365079372, 'harnessed_to_a_cart': 0.03568726036160659, 'pickup': 0.69236798979672898, 'other': 0.098448095200692254, 'black': 0.8987484400424558, 'enclosed_cab': 0.51174500367182751, 'light truck': 0.35117741630345856, 'green': 0.15874938132667676, 'white': 0.90180975503588423, 'ladder': 0.032397374385920545, 'red': 0.93409797170210496, 'prime mover': 0.31974894402430631, 'bus': 0.96862388747908035, 'dedicated agricultural vehicle': 0.65555555555555556, 'enclosed_box': 0.81379538003587459, 'cement mixer': 0.22735117540886382, 'sedan': 0.94430223058280494, 'hatchback': 0.79497215331285886, 'minibus': 0.24591666037083032, 'jeep': 0.13696252474803117, 'silver/grey': 0.82016164307721562, 'spare_wheel': 0.11106437135729831, 'truck': 0.57215885518942455, 'minivan': 0.39159683627631026, 'luggage_carrier': 0.77102752111888162, 'tanker': 0.42880473274174058}"
   ]
  },
  {
   "cell_type": "code",
   "execution_count": 171,
   "metadata": {
    "collapsed": true
   },
   "outputs": [],
   "source": [
    "dict2 = {'open_cargo_area': 0.57555355685460019, 'sunroof': 0.87340007316198287, 'yellow': 0.92675055045920285, 'ac_vents': 0.95123152012331003, 'large vehicle': 0.9401167981602957, 'soft_shell_box': 0.24372766599885112, 'small vehicle': 0.99832618470319434, 'flatbed': 0.56084033613445372, 'blue': 0.66303092256411167, 'van': 0.69133261231893672, 'wrecked': 0.38671147178732168, 'crane truck': 0.90277777777777768, 'harnessed_to_a_cart': 0.054724520593704085, 'pickup': 0.58217075390956585, 'other': 0.13338536333169718, 'black': 0.89756110826777846, 'enclosed_cab': 0.27031834960662587, 'light truck': 0.27922666659054002, 'green': 0.27274965513913135, 'white': 0.93089545987112188, 'ladder': 0.066561398354876622, 'red': 0.91269590273021195, 'prime mover': 0.35166077135918128, 'bus': 0.95664463427692437, 'dedicated agricultural vehicle': 0.625, 'enclosed_box': 0.63709665343452515, 'cement mixer': 0.1217578428267094, 'sedan': 0.94341051759133587, 'hatchback': 0.77689818222941887, 'minibus': 0.15498195085997185, 'jeep': 0.14839846687759295, 'silver/grey': 0.75762964404963773, 'spare_wheel': 0.24468476551618357, 'truck': 0.47458650240177547, 'minivan': 0.35216364662945104, 'luggage_carrier': 0.78796572029872192, 'tanker': 0.033594372347202625}"
   ]
  },
  {
   "cell_type": "code",
   "execution_count": 176,
   "metadata": {},
   "outputs": [],
   "source": [
    "ensemblecols = []\n",
    "val = 0\n",
    "for key in dict1.keys():\n",
    "    if dict1[key] < dict2[key]:\n",
    "        val += (dict2[key] - dict1[key]) \n",
    "        ensemblecols.append(key)"
   ]
  },
  {
   "cell_type": "code",
   "execution_count": 178,
   "metadata": {},
   "outputs": [
    {
     "data": {
      "text/plain": [
       "0.6001625021416884"
      ]
     },
     "execution_count": 178,
     "metadata": {},
     "output_type": "execute_result"
    }
   ],
   "source": [
    "val/37 + 0.576079032254"
   ]
  },
  {
   "cell_type": "code",
   "execution_count": 179,
   "metadata": {
    "collapsed": true
   },
   "outputs": [],
   "source": [
    "bestsub = pd.read_csv('C:/Users/asengup6/Downloads/answer.csv')"
   ]
  },
  {
   "cell_type": "code",
   "execution_count": 180,
   "metadata": {
    "collapsed": true
   },
   "outputs": [],
   "source": [
    "for col in ensemblecols:\n",
    "    df[col] = bestsub[col]"
   ]
  },
  {
   "cell_type": "code",
   "execution_count": 181,
   "metadata": {},
   "outputs": [
    {
     "data": {
      "text/html": [
       "<div>\n",
       "<style>\n",
       "    .dataframe thead tr:only-child th {\n",
       "        text-align: right;\n",
       "    }\n",
       "\n",
       "    .dataframe thead th {\n",
       "        text-align: left;\n",
       "    }\n",
       "\n",
       "    .dataframe tbody tr th {\n",
       "        vertical-align: top;\n",
       "    }\n",
       "</style>\n",
       "<table border=\"1\" class=\"dataframe\">\n",
       "  <thead>\n",
       "    <tr style=\"text-align: right;\">\n",
       "      <th></th>\n",
       "      <th>small vehicle</th>\n",
       "      <th>large vehicle</th>\n",
       "      <th>minibus</th>\n",
       "      <th>hatchback</th>\n",
       "      <th>sedan</th>\n",
       "      <th>bus</th>\n",
       "      <th>minivan</th>\n",
       "      <th>truck</th>\n",
       "      <th>van</th>\n",
       "      <th>jeep</th>\n",
       "      <th>...</th>\n",
       "      <th>open_cargo_area</th>\n",
       "      <th>enclosed_cab</th>\n",
       "      <th>spare_wheel</th>\n",
       "      <th>wrecked</th>\n",
       "      <th>flatbed</th>\n",
       "      <th>ladder</th>\n",
       "      <th>enclosed_box</th>\n",
       "      <th>soft_shell_box</th>\n",
       "      <th>harnessed_to_a_cart</th>\n",
       "      <th>ac_vents</th>\n",
       "    </tr>\n",
       "  </thead>\n",
       "  <tbody>\n",
       "    <tr>\n",
       "      <th>0</th>\n",
       "      <td>11738</td>\n",
       "      <td>36543</td>\n",
       "      <td>24685</td>\n",
       "      <td>27787</td>\n",
       "      <td>39842</td>\n",
       "      <td>18628</td>\n",
       "      <td>30169</td>\n",
       "      <td>21830</td>\n",
       "      <td>12270</td>\n",
       "      <td>12803</td>\n",
       "      <td>...</td>\n",
       "      <td>28789</td>\n",
       "      <td>33809</td>\n",
       "      <td>25716</td>\n",
       "      <td>16426</td>\n",
       "      <td>19482</td>\n",
       "      <td>29625</td>\n",
       "      <td>15329</td>\n",
       "      <td>10738</td>\n",
       "      <td>29606</td>\n",
       "      <td>18628</td>\n",
       "    </tr>\n",
       "    <tr>\n",
       "      <th>1</th>\n",
       "      <td>35980</td>\n",
       "      <td>28535</td>\n",
       "      <td>28022</td>\n",
       "      <td>21404</td>\n",
       "      <td>10034</td>\n",
       "      <td>30871</td>\n",
       "      <td>38842</td>\n",
       "      <td>10738</td>\n",
       "      <td>11455</td>\n",
       "      <td>25202</td>\n",
       "      <td>...</td>\n",
       "      <td>15739</td>\n",
       "      <td>36473</td>\n",
       "      <td>28894</td>\n",
       "      <td>35120</td>\n",
       "      <td>19306</td>\n",
       "      <td>26532</td>\n",
       "      <td>21363</td>\n",
       "      <td>21820</td>\n",
       "      <td>22883</td>\n",
       "      <td>16045</td>\n",
       "    </tr>\n",
       "    <tr>\n",
       "      <th>2</th>\n",
       "      <td>29261</td>\n",
       "      <td>24495</td>\n",
       "      <td>31260</td>\n",
       "      <td>18032</td>\n",
       "      <td>10393</td>\n",
       "      <td>34775</td>\n",
       "      <td>32009</td>\n",
       "      <td>24371</td>\n",
       "      <td>34529</td>\n",
       "      <td>14361</td>\n",
       "      <td>...</td>\n",
       "      <td>37081</td>\n",
       "      <td>13092</td>\n",
       "      <td>12566</td>\n",
       "      <td>19410</td>\n",
       "      <td>23705</td>\n",
       "      <td>23179</td>\n",
       "      <td>33822</td>\n",
       "      <td>13124</td>\n",
       "      <td>31472</td>\n",
       "      <td>20169</td>\n",
       "    </tr>\n",
       "  </tbody>\n",
       "</table>\n",
       "<p>3 rows × 37 columns</p>\n",
       "</div>"
      ],
      "text/plain": [
       "   small vehicle  large vehicle  minibus  hatchback  sedan    bus  minivan  \\\n",
       "0          11738          36543    24685      27787  39842  18628    30169   \n",
       "1          35980          28535    28022      21404  10034  30871    38842   \n",
       "2          29261          24495    31260      18032  10393  34775    32009   \n",
       "\n",
       "   truck    van   jeep    ...     open_cargo_area  enclosed_cab  spare_wheel  \\\n",
       "0  21830  12270  12803    ...               28789         33809        25716   \n",
       "1  10738  11455  25202    ...               15739         36473        28894   \n",
       "2  24371  34529  14361    ...               37081         13092        12566   \n",
       "\n",
       "   wrecked  flatbed  ladder  enclosed_box  soft_shell_box  \\\n",
       "0    16426    19482   29625         15329           10738   \n",
       "1    35120    19306   26532         21363           21820   \n",
       "2    19410    23705   23179         33822           13124   \n",
       "\n",
       "   harnessed_to_a_cart  ac_vents  \n",
       "0                29606     18628  \n",
       "1                22883     16045  \n",
       "2                31472     20169  \n",
       "\n",
       "[3 rows x 37 columns]"
      ]
     },
     "execution_count": 181,
     "metadata": {},
     "output_type": "execute_result"
    }
   ],
   "source": [
    "bestsub.head(3)"
   ]
  },
  {
   "cell_type": "code",
   "execution_count": 182,
   "metadata": {},
   "outputs": [
    {
     "data": {
      "text/html": [
       "<div>\n",
       "<style>\n",
       "    .dataframe thead tr:only-child th {\n",
       "        text-align: right;\n",
       "    }\n",
       "\n",
       "    .dataframe thead th {\n",
       "        text-align: left;\n",
       "    }\n",
       "\n",
       "    .dataframe tbody tr th {\n",
       "        vertical-align: top;\n",
       "    }\n",
       "</style>\n",
       "<table border=\"1\" class=\"dataframe\">\n",
       "  <thead>\n",
       "    <tr style=\"text-align: right;\">\n",
       "      <th></th>\n",
       "      <th>small vehicle</th>\n",
       "      <th>large vehicle</th>\n",
       "      <th>minibus</th>\n",
       "      <th>hatchback</th>\n",
       "      <th>sedan</th>\n",
       "      <th>bus</th>\n",
       "      <th>minivan</th>\n",
       "      <th>truck</th>\n",
       "      <th>van</th>\n",
       "      <th>jeep</th>\n",
       "      <th>...</th>\n",
       "      <th>open_cargo_area</th>\n",
       "      <th>enclosed_cab</th>\n",
       "      <th>spare_wheel</th>\n",
       "      <th>wrecked</th>\n",
       "      <th>flatbed</th>\n",
       "      <th>ladder</th>\n",
       "      <th>enclosed_box</th>\n",
       "      <th>soft_shell_box</th>\n",
       "      <th>harnessed_to_a_cart</th>\n",
       "      <th>ac_vents</th>\n",
       "    </tr>\n",
       "  </thead>\n",
       "  <tbody>\n",
       "    <tr>\n",
       "      <th>0</th>\n",
       "      <td>11738</td>\n",
       "      <td>36543</td>\n",
       "      <td>31260</td>\n",
       "      <td>26439</td>\n",
       "      <td>28325</td>\n",
       "      <td>20169</td>\n",
       "      <td>32186</td>\n",
       "      <td>19482</td>\n",
       "      <td>35465</td>\n",
       "      <td>12803</td>\n",
       "      <td>...</td>\n",
       "      <td>28789</td>\n",
       "      <td>10419</td>\n",
       "      <td>25716</td>\n",
       "      <td>16426</td>\n",
       "      <td>19482</td>\n",
       "      <td>29625</td>\n",
       "      <td>18231</td>\n",
       "      <td>18039</td>\n",
       "      <td>29606</td>\n",
       "      <td>18628</td>\n",
       "    </tr>\n",
       "    <tr>\n",
       "      <th>1</th>\n",
       "      <td>35980</td>\n",
       "      <td>28535</td>\n",
       "      <td>29955</td>\n",
       "      <td>31433</td>\n",
       "      <td>29973</td>\n",
       "      <td>21694</td>\n",
       "      <td>26038</td>\n",
       "      <td>21363</td>\n",
       "      <td>38223</td>\n",
       "      <td>25202</td>\n",
       "      <td>...</td>\n",
       "      <td>28138</td>\n",
       "      <td>36473</td>\n",
       "      <td>28894</td>\n",
       "      <td>35120</td>\n",
       "      <td>19306</td>\n",
       "      <td>26532</td>\n",
       "      <td>28295</td>\n",
       "      <td>10792</td>\n",
       "      <td>22883</td>\n",
       "      <td>16045</td>\n",
       "    </tr>\n",
       "    <tr>\n",
       "      <th>2</th>\n",
       "      <td>29261</td>\n",
       "      <td>24495</td>\n",
       "      <td>39959</td>\n",
       "      <td>24041</td>\n",
       "      <td>39923</td>\n",
       "      <td>18628</td>\n",
       "      <td>20178</td>\n",
       "      <td>27435</td>\n",
       "      <td>21020</td>\n",
       "      <td>14361</td>\n",
       "      <td>...</td>\n",
       "      <td>35949</td>\n",
       "      <td>33809</td>\n",
       "      <td>12566</td>\n",
       "      <td>19410</td>\n",
       "      <td>23705</td>\n",
       "      <td>23179</td>\n",
       "      <td>16579</td>\n",
       "      <td>36294</td>\n",
       "      <td>31472</td>\n",
       "      <td>20169</td>\n",
       "    </tr>\n",
       "  </tbody>\n",
       "</table>\n",
       "<p>3 rows × 37 columns</p>\n",
       "</div>"
      ],
      "text/plain": [
       "   small vehicle  large vehicle  minibus  hatchback  sedan    bus  minivan  \\\n",
       "0          11738          36543    31260      26439  28325  20169    32186   \n",
       "1          35980          28535    29955      31433  29973  21694    26038   \n",
       "2          29261          24495    39959      24041  39923  18628    20178   \n",
       "\n",
       "   truck    van   jeep    ...     open_cargo_area  enclosed_cab  spare_wheel  \\\n",
       "0  19482  35465  12803    ...               28789         10419        25716   \n",
       "1  21363  38223  25202    ...               28138         36473        28894   \n",
       "2  27435  21020  14361    ...               35949         33809        12566   \n",
       "\n",
       "   wrecked  flatbed  ladder  enclosed_box  soft_shell_box  \\\n",
       "0    16426    19482   29625         18231           18039   \n",
       "1    35120    19306   26532         28295           10792   \n",
       "2    19410    23705   23179         16579           36294   \n",
       "\n",
       "   harnessed_to_a_cart  ac_vents  \n",
       "0                29606     18628  \n",
       "1                22883     16045  \n",
       "2                31472     20169  \n",
       "\n",
       "[3 rows x 37 columns]"
      ]
     },
     "execution_count": 182,
     "metadata": {},
     "output_type": "execute_result"
    }
   ],
   "source": [
    "df.head(3)"
   ]
  },
  {
   "cell_type": "code",
   "execution_count": 184,
   "metadata": {
    "collapsed": true
   },
   "outputs": [],
   "source": [
    "df.to_csv('../answer.csv',index=False)"
   ]
  },
  {
   "cell_type": "code",
   "execution_count": null,
   "metadata": {
    "collapsed": true
   },
   "outputs": [],
   "source": []
  }
 ],
 "metadata": {
  "kernelspec": {
   "display_name": "Python 3",
   "language": "python",
   "name": "python3"
  },
  "language_info": {
   "codemirror_mode": {
    "name": "ipython",
    "version": 3
   },
   "file_extension": ".py",
   "mimetype": "text/x-python",
   "name": "python",
   "nbconvert_exporter": "python",
   "pygments_lexer": "ipython3",
   "version": "3.7.1"
  }
 },
 "nbformat": 4,
 "nbformat_minor": 2
}
