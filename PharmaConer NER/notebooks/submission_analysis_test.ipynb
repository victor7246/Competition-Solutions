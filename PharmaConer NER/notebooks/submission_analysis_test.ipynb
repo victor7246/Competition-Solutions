{
 "cells": [
  {
   "cell_type": "code",
   "execution_count": 1,
   "metadata": {},
   "outputs": [],
   "source": [
    "import os\n",
    "import pandas as pd\n",
    "from tqdm import tqdm\n",
    "import shutil"
   ]
  },
  {
   "cell_type": "code",
   "execution_count": 36,
   "metadata": {},
   "outputs": [
    {
     "name": "stdout",
     "output_type": "stream",
     "text": [
      "(872149, 6) (823098, 8)\n"
     ]
    }
   ],
   "source": [
    "test_submission = pd.read_csv('../data/test_submission/bilstm_transformer.csv')\n",
    "\n",
    "test = pd.read_csv('../data/subtask1_test.csv')\n",
    "\n",
    "print (test.shape, test_submission.shape)"
   ]
  },
  {
   "cell_type": "code",
   "execution_count": 37,
   "metadata": {},
   "outputs": [
    {
     "data": {
      "text/html": [
       "<div>\n",
       "<style scoped>\n",
       "    .dataframe tbody tr th:only-of-type {\n",
       "        vertical-align: middle;\n",
       "    }\n",
       "\n",
       "    .dataframe tbody tr th {\n",
       "        vertical-align: top;\n",
       "    }\n",
       "\n",
       "    .dataframe thead th {\n",
       "        text-align: right;\n",
       "    }\n",
       "</style>\n",
       "<table border=\"1\" class=\"dataframe\">\n",
       "  <thead>\n",
       "    <tr style=\"text-align: right;\">\n",
       "      <th></th>\n",
       "      <th>document</th>\n",
       "      <th>sentence</th>\n",
       "      <th>n1</th>\n",
       "      <th>n2</th>\n",
       "      <th>word</th>\n",
       "      <th>pos</th>\n",
       "      <th>doc_sent</th>\n",
       "      <th>tag</th>\n",
       "    </tr>\n",
       "  </thead>\n",
       "  <tbody>\n",
       "    <tr>\n",
       "      <th>0</th>\n",
       "      <td>S0004-06142008000100008-1</td>\n",
       "      <td>0</td>\n",
       "      <td>0</td>\n",
       "      <td>11</td>\n",
       "      <td>presentamos</td>\n",
       "      <td>VERB</td>\n",
       "      <td>S0004-06142008000100008-1_0</td>\n",
       "      <td>OTHER</td>\n",
       "    </tr>\n",
       "    <tr>\n",
       "      <th>1</th>\n",
       "      <td>S0004-06142008000100008-1</td>\n",
       "      <td>0</td>\n",
       "      <td>15</td>\n",
       "      <td>19</td>\n",
       "      <td>caso</td>\n",
       "      <td>NOUN</td>\n",
       "      <td>S0004-06142008000100008-1_0</td>\n",
       "      <td>OTHER</td>\n",
       "    </tr>\n",
       "    <tr>\n",
       "      <th>2</th>\n",
       "      <td>S0004-06142008000100008-1</td>\n",
       "      <td>0</td>\n",
       "      <td>27</td>\n",
       "      <td>32</td>\n",
       "      <td>mujer</td>\n",
       "      <td>NOUN</td>\n",
       "      <td>S0004-06142008000100008-1_0</td>\n",
       "      <td>OTHER</td>\n",
       "    </tr>\n",
       "    <tr>\n",
       "      <th>3</th>\n",
       "      <td>S0004-06142008000100008-1</td>\n",
       "      <td>0</td>\n",
       "      <td>36</td>\n",
       "      <td>38</td>\n",
       "      <td>30</td>\n",
       "      <td>NUM</td>\n",
       "      <td>S0004-06142008000100008-1_0</td>\n",
       "      <td>OTHER</td>\n",
       "    </tr>\n",
       "    <tr>\n",
       "      <th>4</th>\n",
       "      <td>S0004-06142008000100008-1</td>\n",
       "      <td>0</td>\n",
       "      <td>39</td>\n",
       "      <td>43</td>\n",
       "      <td>años</td>\n",
       "      <td>NOUN</td>\n",
       "      <td>S0004-06142008000100008-1_0</td>\n",
       "      <td>OTHER</td>\n",
       "    </tr>\n",
       "    <tr>\n",
       "      <th>5</th>\n",
       "      <td>S0004-06142008000100008-1</td>\n",
       "      <td>0</td>\n",
       "      <td>45</td>\n",
       "      <td>53</td>\n",
       "      <td>fumadora</td>\n",
       "      <td>ADJ</td>\n",
       "      <td>S0004-06142008000100008-1_0</td>\n",
       "      <td>OTHER</td>\n",
       "    </tr>\n",
       "    <tr>\n",
       "      <th>6</th>\n",
       "      <td>S0004-06142008000100008-1</td>\n",
       "      <td>0</td>\n",
       "      <td>57</td>\n",
       "      <td>59</td>\n",
       "      <td>20</td>\n",
       "      <td>NUM</td>\n",
       "      <td>S0004-06142008000100008-1_0</td>\n",
       "      <td>OTHER</td>\n",
       "    </tr>\n",
       "    <tr>\n",
       "      <th>7</th>\n",
       "      <td>S0004-06142008000100008-1</td>\n",
       "      <td>0</td>\n",
       "      <td>60</td>\n",
       "      <td>75</td>\n",
       "      <td>cigarrillos/día</td>\n",
       "      <td>NOUN</td>\n",
       "      <td>S0004-06142008000100008-1_0</td>\n",
       "      <td>OTHER</td>\n",
       "    </tr>\n",
       "    <tr>\n",
       "      <th>8</th>\n",
       "      <td>S0004-06142008000100008-1</td>\n",
       "      <td>0</td>\n",
       "      <td>88</td>\n",
       "      <td>100</td>\n",
       "      <td>antecedentes</td>\n",
       "      <td>NOUN</td>\n",
       "      <td>S0004-06142008000100008-1_0</td>\n",
       "      <td>OTHER</td>\n",
       "    </tr>\n",
       "    <tr>\n",
       "      <th>9</th>\n",
       "      <td>S0004-06142008000100008-1</td>\n",
       "      <td>0</td>\n",
       "      <td>101</td>\n",
       "      <td>111</td>\n",
       "      <td>personales</td>\n",
       "      <td>ADJ</td>\n",
       "      <td>S0004-06142008000100008-1_0</td>\n",
       "      <td>OTHER</td>\n",
       "    </tr>\n",
       "  </tbody>\n",
       "</table>\n",
       "</div>"
      ],
      "text/plain": [
       "                    document  sentence   n1   n2             word   pos  \\\n",
       "0  S0004-06142008000100008-1         0    0   11      presentamos  VERB   \n",
       "1  S0004-06142008000100008-1         0   15   19             caso  NOUN   \n",
       "2  S0004-06142008000100008-1         0   27   32            mujer  NOUN   \n",
       "3  S0004-06142008000100008-1         0   36   38               30   NUM   \n",
       "4  S0004-06142008000100008-1         0   39   43             años  NOUN   \n",
       "5  S0004-06142008000100008-1         0   45   53         fumadora   ADJ   \n",
       "6  S0004-06142008000100008-1         0   57   59               20   NUM   \n",
       "7  S0004-06142008000100008-1         0   60   75  cigarrillos/día  NOUN   \n",
       "8  S0004-06142008000100008-1         0   88  100     antecedentes  NOUN   \n",
       "9  S0004-06142008000100008-1         0  101  111       personales   ADJ   \n",
       "\n",
       "                      doc_sent    tag  \n",
       "0  S0004-06142008000100008-1_0  OTHER  \n",
       "1  S0004-06142008000100008-1_0  OTHER  \n",
       "2  S0004-06142008000100008-1_0  OTHER  \n",
       "3  S0004-06142008000100008-1_0  OTHER  \n",
       "4  S0004-06142008000100008-1_0  OTHER  \n",
       "5  S0004-06142008000100008-1_0  OTHER  \n",
       "6  S0004-06142008000100008-1_0  OTHER  \n",
       "7  S0004-06142008000100008-1_0  OTHER  \n",
       "8  S0004-06142008000100008-1_0  OTHER  \n",
       "9  S0004-06142008000100008-1_0  OTHER  "
      ]
     },
     "execution_count": 37,
     "metadata": {},
     "output_type": "execute_result"
    }
   ],
   "source": [
    "test_submission.head(10)"
   ]
  },
  {
   "cell_type": "code",
   "execution_count": 38,
   "metadata": {},
   "outputs": [
    {
     "data": {
      "text/plain": [
       "OTHER            806532\n",
       "NORMALIZABLES      9735\n",
       "PROTEINAS          6757\n",
       "PAD                  74\n",
       "Name: tag, dtype: int64"
      ]
     },
     "execution_count": 38,
     "metadata": {},
     "output_type": "execute_result"
    }
   ],
   "source": [
    "test_submission.tag.value_counts()"
   ]
  },
  {
   "cell_type": "code",
   "execution_count": 39,
   "metadata": {},
   "outputs": [
    {
     "name": "stdout",
     "output_type": "stream",
     "text": [
      "(24727, 2)\n"
     ]
    },
    {
     "name": "stderr",
     "output_type": "stream",
     "text": [
      "/Users/victor/anaconda3/lib/python3.7/site-packages/ipykernel_launcher.py:10: UserWarning: Boolean Series key will be reindexed to match DataFrame index.\n",
      "  # Remove the CWD from sys.path while we load stuff.\n"
     ]
    }
   ],
   "source": [
    "train = pd.read_csv('../data/subtask1_train.csv')[['word','tag']]\n",
    "val = pd.read_csv('../data/subtask1_dev.csv')[['word','tag']]\n",
    "all_words = pd.concat([train,val],axis=0).drop_duplicates().reset_index(drop=True)\n",
    "\n",
    "xx = all_words.groupby(['word'])['tag'].nunique().reset_index()\n",
    "xx.columns = ['word','tag_counts']\n",
    "xx = xx[xx.tag_counts == 1]\n",
    "print (xx.shape)\n",
    "\n",
    "uniq_word_tags = pd.merge(all_words[all_words.tag != 'OTHER'][all_words.tag != 'UNCLEAR'],xx,how='inner')[['word','tag']]\n",
    "uniq_word_tags.columns = ['word','actual_tag']\n",
    "uniq_word_tags = uniq_word_tags.drop_duplicates(subset=['word'])\n",
    "\n",
    "test_submission = pd.merge(test_submission,uniq_word_tags,how='left')\n",
    "\n",
    "def fix_tag(x):\n",
    "    if pd.notnull(x.actual_tag) and x.tag != x.actual_tag:\n",
    "        x['tag'] = x.actual_tag\n",
    "    return x\n",
    "\n",
    "test_submission = test_submission.apply(lambda x: fix_tag(x),axis=1)"
   ]
  },
  {
   "cell_type": "code",
   "execution_count": 40,
   "metadata": {},
   "outputs": [
    {
     "data": {
      "text/plain": [
       "OTHER               789489\n",
       "NORMALIZABLES        20050\n",
       "PROTEINAS            13469\n",
       "PAD                     74\n",
       "NO_NORMALIZABLES        16\n",
       "Name: tag, dtype: int64"
      ]
     },
     "execution_count": 40,
     "metadata": {},
     "output_type": "execute_result"
    }
   ],
   "source": [
    "test_submission.tag.value_counts()"
   ]
  },
  {
   "cell_type": "code",
   "execution_count": 41,
   "metadata": {},
   "outputs": [
    {
     "name": "stderr",
     "output_type": "stream",
     "text": [
      "/Users/victor/anaconda3/lib/python3.7/site-packages/ipykernel_launcher.py:1: UserWarning: Boolean Series key will be reindexed to match DataFrame index.\n",
      "  \"\"\"Entry point for launching an IPython kernel.\n"
     ]
    }
   ],
   "source": [
    "test_submission = test_submission[test_submission.tag != 'OTHER'][test_submission.tag != 'PAD'][test_submission.tag != 'UNCLEAR']"
   ]
  },
  {
   "cell_type": "code",
   "execution_count": 42,
   "metadata": {},
   "outputs": [],
   "source": [
    "test_pred = pd.DataFrame()"
   ]
  },
  {
   "cell_type": "code",
   "execution_count": 43,
   "metadata": {},
   "outputs": [],
   "source": [
    "i = 0\n",
    "j = 0\n",
    "\n",
    "n1 = test_submission['n1'].iloc[i]\n",
    "n2 = test_submission['n2'].iloc[i]\n",
    "document = test_submission['document'].iloc[i]\n",
    "doc_sent = test_submission['doc_sent'].iloc[i]\n",
    "tag = test_submission['tag'].iloc[i]\n",
    "word = [test_submission['word'].iloc[i]]\n",
    "\n",
    "documents = []\n",
    "n1s = []\n",
    "n2s = []\n",
    "tags = []\n",
    "words = []\n",
    "\n",
    "while i < test_submission.shape[0]-1:\n",
    "     \n",
    "    if test_submission['doc_sent'].iloc[i+1] == doc_sent and \\\n",
    "            test_submission['tag'].iloc[i+1] == tag and test_submission['n1'].iloc[i+1] == n2 + 1 :\n",
    "            \n",
    "            n2 = test_submission['n2'].iloc[i+1]\n",
    "            word += [test_submission['word'].iloc[i+1]]\n",
    "    \n",
    "    else:\n",
    "        \n",
    "        documents.append(document)\n",
    "        n1s.append(n1)\n",
    "        n2s.append(n2)\n",
    "        tags.append(tag)\n",
    "        words.append(\" \".join(word))\n",
    "        \n",
    "        j += 1\n",
    "        \n",
    "        n1 = test_submission['n1'].iloc[i+1]\n",
    "        n2 = test_submission['n2'].iloc[i+1]\n",
    "        document = test_submission['document'].iloc[i+1]\n",
    "        doc_sent = test_submission['doc_sent'].iloc[i+1]\n",
    "        tag = test_submission['tag'].iloc[i+1]\n",
    "        word = [test_submission['word'].iloc[i+1]]\n",
    "\n",
    "    i += 1\n",
    "    \n",
    "test_pred['document'] = documents\n",
    "test_pred['n1'] = n1s\n",
    "test_pred['n2'] = n2s\n",
    "test_pred['word'] = words\n",
    "test_pred['tag_pred'] = tags"
   ]
  },
  {
   "cell_type": "code",
   "execution_count": 44,
   "metadata": {},
   "outputs": [
    {
     "data": {
      "text/plain": [
       "3751"
      ]
     },
     "execution_count": 44,
     "metadata": {},
     "output_type": "execute_result"
    }
   ],
   "source": [
    "test.document.nunique()"
   ]
  },
  {
   "cell_type": "code",
   "execution_count": 45,
   "metadata": {},
   "outputs": [
    {
     "name": "stdout",
     "output_type": "stream",
     "text": [
      "(32660, 5)\n",
      "NORMALIZABLES       19453\n",
      "PROTEINAS           13191\n",
      "NO_NORMALIZABLES       16\n",
      "Name: tag_pred, dtype: int64\n"
     ]
    }
   ],
   "source": [
    "print (test_pred.shape)\n",
    "print (test_pred.tag_pred.value_counts())"
   ]
  },
  {
   "cell_type": "code",
   "execution_count": 46,
   "metadata": {},
   "outputs": [
    {
     "name": "stdout",
     "output_type": "stream",
     "text": [
      "rm: ../data/submissions/bilstm_transformer/: No such file or directory\r\n"
     ]
    }
   ],
   "source": [
    "!rm -r ../data/submissions/bilstm_transformer/"
   ]
  },
  {
   "cell_type": "code",
   "execution_count": 47,
   "metadata": {},
   "outputs": [],
   "source": [
    "!mkdir -p ../data/submissions/bilstm_transformer/subtask1/"
   ]
  },
  {
   "cell_type": "code",
   "execution_count": 48,
   "metadata": {},
   "outputs": [
    {
     "name": "stdout",
     "output_type": "stream",
     "text": [
      "500 250\n"
     ]
    }
   ],
   "source": [
    "train_documents = list(pd.read_csv('../data/subtask1_train.csv')['document'].unique())\n",
    "val_documents = list(pd.read_csv('../data/subtask1_dev.csv')['document'].unique())\n",
    "print (len(train_documents),len(val_documents))"
   ]
  },
  {
   "cell_type": "code",
   "execution_count": 49,
   "metadata": {},
   "outputs": [
    {
     "name": "stderr",
     "output_type": "stream",
     "text": [
      "100%|██████████| 3751/3751 [00:11<00:00, 324.22it/s]\n"
     ]
    }
   ],
   "source": [
    "for i in tqdm(test.document.unique()):\n",
    "    if i in train_documents:\n",
    "        shutil.copy2(os.path.join('../raw_data/train/subtrack1/',i+'.ann'),os.path.join('../data/submissions/bilstm_transformer/subtask1/',i+'.ann'))\n",
    "    elif i in val_documents:\n",
    "        shutil.copy2(os.path.join('../raw_data/dev/subtrack1/',i+'.ann'),os.path.join('../data/submissions/bilstm_transformer/subtask1/',i+'.ann'))\n",
    "    else:\n",
    "        df = test_pred[test_pred.document == i]\n",
    "        f = open('../data/submissions/bilstm_transformer/subtask1/{}.ann'.format(i),'a')\n",
    "        if len(df) > 0:\n",
    "            for j in range(len(df)):\n",
    "                f.writelines(\"T{}\\t{} {} {}\\t{}\\n\".format(j+1,df.tag_pred.iloc[j],df.n1.iloc[j],df.n2.iloc[j],df.word.iloc[j]))\n"
   ]
  },
  {
   "cell_type": "code",
   "execution_count": 19,
   "metadata": {},
   "outputs": [],
   "source": [
    "#lines = \"\".join(open('../raw_data/background/S0004-06142005000200004-1.txt').readlines())"
   ]
  },
  {
   "cell_type": "code",
   "execution_count": 20,
   "metadata": {},
   "outputs": [
    {
     "data": {
      "text/plain": [
       "'3 meses'"
      ]
     },
     "execution_count": 20,
     "metadata": {},
     "output_type": "execute_result"
    }
   ],
   "source": [
    "#lines[3066:3073]"
   ]
  },
  {
   "cell_type": "code",
   "execution_count": 21,
   "metadata": {},
   "outputs": [
    {
     "data": {
      "text/plain": [
       "['S0004-06142008000100008-1',\n",
       " 'S1130-01082008001000010-1',\n",
       " 'S1579-699X2004000400002-1']"
      ]
     },
     "execution_count": 21,
     "metadata": {},
     "output_type": "execute_result"
    }
   ],
   "source": [
    "#train_documents[:3]"
   ]
  },
  {
   "cell_type": "code",
   "execution_count": null,
   "metadata": {},
   "outputs": [],
   "source": []
  }
 ],
 "metadata": {
  "kernelspec": {
   "display_name": "Python 3",
   "language": "python",
   "name": "python3"
  },
  "language_info": {
   "codemirror_mode": {
    "name": "ipython",
    "version": 3
   },
   "file_extension": ".py",
   "mimetype": "text/x-python",
   "name": "python",
   "nbconvert_exporter": "python",
   "pygments_lexer": "ipython3",
   "version": "3.7.1"
  }
 },
 "nbformat": 4,
 "nbformat_minor": 2
}
